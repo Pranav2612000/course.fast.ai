{
  "nbformat": 4,
  "nbformat_minor": 0,
  "metadata": {
    "colab": {
      "provenance": []
    },
    "kernelspec": {
      "name": "python3",
      "display_name": "Python 3"
    },
    "language_info": {
      "name": "python"
    }
  },
  "cells": [
    {
      "cell_type": "code",
      "execution_count": 1,
      "metadata": {
        "id": "ao6pp6H_tR1h"
      },
      "outputs": [],
      "source": [
        "from fastai.vision.all import *\n",
        "from fastai.data.external import untar_data, URLs"
      ]
    },
    {
      "cell_type": "code",
      "source": [
        "path = untar_data(URLs.MNIST)"
      ],
      "metadata": {
        "colab": {
          "base_uri": "https://localhost:8080/",
          "height": 37
        },
        "id": "jD1h32PftnQa",
        "outputId": "69feddf0-116e-46d9-f270-19428f432101"
      },
      "execution_count": 2,
      "outputs": [
        {
          "output_type": "display_data",
          "data": {
            "text/plain": [
              "<IPython.core.display.HTML object>"
            ],
            "text/html": [
              "\n",
              "<style>\n",
              "    /* Turns off some styling */\n",
              "    progress {\n",
              "        /* gets rid of default border in Firefox and Opera. */\n",
              "        border: none;\n",
              "        /* Needs to be in here for Safari polyfill so background images work as expected. */\n",
              "        background-size: auto;\n",
              "    }\n",
              "    progress:not([value]), progress:not([value])::-webkit-progress-bar {\n",
              "        background: repeating-linear-gradient(45deg, #7e7e7e, #7e7e7e 10px, #5c5c5c 10px, #5c5c5c 20px);\n",
              "    }\n",
              "    .progress-bar-interrupted, .progress-bar-interrupted::-webkit-progress-bar {\n",
              "        background: #F44336;\n",
              "    }\n",
              "</style>\n"
            ]
          },
          "metadata": {}
        },
        {
          "output_type": "display_data",
          "data": {
            "text/plain": [
              "<IPython.core.display.HTML object>"
            ],
            "text/html": [
              "\n",
              "    <div>\n",
              "      <progress value='15687680' class='' max='15683414' style='width:300px; height:20px; vertical-align: middle;'></progress>\n",
              "      100.03% [15687680/15683414 00:00&lt;00:00]\n",
              "    </div>\n",
              "    "
            ]
          },
          "metadata": {}
        }
      ]
    },
    {
      "cell_type": "code",
      "source": [
        "Path.BASE_PATH = path"
      ],
      "metadata": {
        "id": "2ZUxqMRZtppu"
      },
      "execution_count": 3,
      "outputs": []
    },
    {
      "cell_type": "code",
      "source": [
        "path.ls()"
      ],
      "metadata": {
        "colab": {
          "base_uri": "https://localhost:8080/"
        },
        "id": "MyGjh4hPtyMu",
        "outputId": "115db66d-b186-41e7-e5b3-5916d7023134"
      },
      "execution_count": 4,
      "outputs": [
        {
          "output_type": "execute_result",
          "data": {
            "text/plain": [
              "(#2) [Path('testing'),Path('training')]"
            ]
          },
          "metadata": {},
          "execution_count": 4
        }
      ]
    },
    {
      "cell_type": "code",
      "source": [
        "images = []\n",
        "for i in range(0, 10):\n",
        "  images.append([tensor(Image.open(o)) for o in (path/'training'/str(i)).ls().sorted()])"
      ],
      "metadata": {
        "id": "UZDsJehLucZg"
      },
      "execution_count": 13,
      "outputs": []
    },
    {
      "cell_type": "code",
      "source": [
        "valid_images = []\n",
        "for i in range(0, 10):\n",
        "  valid_images.append([tensor(Image.open(o)) for o in (path/'testing'/str(i)).ls().sorted()])"
      ],
      "metadata": {
        "id": "s1BGnIbT0zdN"
      },
      "execution_count": 43,
      "outputs": []
    },
    {
      "cell_type": "code",
      "source": [
        "images[0][0].shape"
      ],
      "metadata": {
        "colab": {
          "base_uri": "https://localhost:8080/"
        },
        "id": "h-aJY2VGyfsO",
        "outputId": "cbd1f7aa-3eba-4ee9-f49a-9a4ab8d2373d"
      },
      "execution_count": 26,
      "outputs": [
        {
          "output_type": "execute_result",
          "data": {
            "text/plain": [
              "torch.Size([28, 28])"
            ]
          },
          "metadata": {},
          "execution_count": 26
        }
      ]
    },
    {
      "cell_type": "code",
      "source": [
        "valid_images[0][0].shape"
      ],
      "metadata": {
        "colab": {
          "base_uri": "https://localhost:8080/"
        },
        "id": "9BdQi6Tv1AIi",
        "outputId": "adc55ca7-8517-4ccc-f451-042a99ccb58a"
      },
      "execution_count": 45,
      "outputs": [
        {
          "output_type": "execute_result",
          "data": {
            "text/plain": [
              "torch.Size([28, 28])"
            ]
          },
          "metadata": {},
          "execution_count": 45
        }
      ]
    },
    {
      "cell_type": "code",
      "source": [
        "show_image(images[6][0])"
      ],
      "metadata": {
        "colab": {
          "base_uri": "https://localhost:8080/",
          "height": 132
        },
        "id": "FFTsiP6ZwMXb",
        "outputId": "19f418e4-731d-4307-8810-e48ad3587bde"
      },
      "execution_count": 19,
      "outputs": [
        {
          "output_type": "execute_result",
          "data": {
            "text/plain": [
              "<Axes: >"
            ]
          },
          "metadata": {},
          "execution_count": 19
        },
        {
          "output_type": "display_data",
          "data": {
            "text/plain": [
              "<Figure size 100x100 with 1 Axes>"
            ],
            "image/png": "[encoded data removed]"
          },
          "metadata": {}
        }
      ]
    },
    {
      "cell_type": "code",
      "source": [
        "show_image(valid_images[6][0])"
      ],
      "metadata": {
        "colab": {
          "base_uri": "https://localhost:8080/",
          "height": 132
        },
        "id": "9EtboTj81F0T",
        "outputId": "3d144d57-db74-4ca8-9cb6-21b5501a25c1"
      },
      "execution_count": 46,
      "outputs": [
        {
          "output_type": "execute_result",
          "data": {
            "text/plain": [
              "<Axes: >"
            ]
          },
          "metadata": {},
          "execution_count": 46
        },
        {
          "output_type": "display_data",
          "data": {
            "text/plain": [
              "<Figure size 100x100 with 1 Axes>"
            ],
            "image/png": "[encoded data removed]"
          },
          "metadata": {}
        }
      ]
    },
    {
      "cell_type": "code",
      "source": [
        "[len(x) for x in images]"
      ],
      "metadata": {
        "colab": {
          "base_uri": "https://localhost:8080/"
        },
        "id": "jnrLYpMSxs3s",
        "outputId": "03010f53-880c-42dd-ad48-3211ee0c2ed6"
      },
      "execution_count": 23,
      "outputs": [
        {
          "output_type": "execute_result",
          "data": {
            "text/plain": [
              "[5923, 6742, 5958, 6131, 5842, 5421, 5918, 6265, 5851, 5949]"
            ]
          },
          "metadata": {},
          "execution_count": 23
        }
      ]
    },
    {
      "cell_type": "code",
      "source": [
        "[len(x) for x in valid_images]"
      ],
      "metadata": {
        "colab": {
          "base_uri": "https://localhost:8080/"
        },
        "id": "HRKo60QH1HyK",
        "outputId": "215e4b2d-2cfd-440d-cddb-7d67fd5df351"
      },
      "execution_count": 47,
      "outputs": [
        {
          "output_type": "execute_result",
          "data": {
            "text/plain": [
              "[980, 1135, 1032, 1010, 982, 892, 958, 1028, 974, 1009]"
            ]
          },
          "metadata": {},
          "execution_count": 47
        }
      ]
    },
    {
      "cell_type": "code",
      "source": [
        "stacked_images = [torch.stack(x).float()/255 for x in images]"
      ],
      "metadata": {
        "id": "U5oS6qh8yQBD"
      },
      "execution_count": 24,
      "outputs": []
    },
    {
      "cell_type": "code",
      "source": [
        "stacked_valid_images = [torch.stack(x).float()/255 for x in valid_images]"
      ],
      "metadata": {
        "id": "pKIKSuXS1Ktl"
      },
      "execution_count": 48,
      "outputs": []
    },
    {
      "cell_type": "code",
      "source": [
        "stacked_images[7].shape"
      ],
      "metadata": {
        "colab": {
          "base_uri": "https://localhost:8080/"
        },
        "id": "6lA4gQjfyaIP",
        "outputId": "31126a78-d1bc-4d45-bedb-7495fbefedd1"
      },
      "execution_count": 28,
      "outputs": [
        {
          "output_type": "execute_result",
          "data": {
            "text/plain": [
              "torch.Size([6265, 28, 28])"
            ]
          },
          "metadata": {},
          "execution_count": 28
        }
      ]
    },
    {
      "cell_type": "code",
      "source": [
        "train_x = torch.cat(stacked_images).view(-1, 28*28)"
      ],
      "metadata": {
        "id": "EsZ1wHjUzN71"
      },
      "execution_count": 31,
      "outputs": []
    },
    {
      "cell_type": "code",
      "source": [
        "train_x.shape"
      ],
      "metadata": {
        "colab": {
          "base_uri": "https://localhost:8080/"
        },
        "id": "0NtZeQmAzVSs",
        "outputId": "92b083f9-ba23-488d-ce8d-84e2e04bf262"
      },
      "execution_count": 32,
      "outputs": [
        {
          "output_type": "execute_result",
          "data": {
            "text/plain": [
              "torch.Size([60000, 784])"
            ]
          },
          "metadata": {},
          "execution_count": 32
        }
      ]
    },
    {
      "cell_type": "code",
      "source": [
        "results = []\n",
        "for i in range(0, 10):\n",
        "  results += [i] * len(images[i])\n",
        "\n",
        "len(results)"
      ],
      "metadata": {
        "colab": {
          "base_uri": "https://localhost:8080/"
        },
        "id": "EQfxuruqzSQx",
        "outputId": "4fcefce5-0988-4e54-89dd-000a8933854f"
      },
      "execution_count": 35,
      "outputs": [
        {
          "output_type": "execute_result",
          "data": {
            "text/plain": [
              "60000"
            ]
          },
          "metadata": {},
          "execution_count": 35
        }
      ]
    },
    {
      "cell_type": "code",
      "source": [
        "valid_results = []\n",
        "for i in range(0, 10):\n",
        "  valid_results += [i] * len(valid_images[i])\n",
        "\n",
        "len(valid_results)"
      ],
      "metadata": {
        "colab": {
          "base_uri": "https://localhost:8080/"
        },
        "id": "5VQcEF_11Wfm",
        "outputId": "00c8925e-8ec9-411b-db70-8ecfeca4bbe8"
      },
      "execution_count": 51,
      "outputs": [
        {
          "output_type": "execute_result",
          "data": {
            "text/plain": [
              "10000"
            ]
          },
          "metadata": {},
          "execution_count": 51
        }
      ]
    },
    {
      "cell_type": "code",
      "source": [
        "train_y = tensor(results).unsqueeze(1)"
      ],
      "metadata": {
        "id": "wYRJxLyrz_BW"
      },
      "execution_count": 38,
      "outputs": []
    },
    {
      "cell_type": "code",
      "source": [
        "train_x.shape, train_y.shape"
      ],
      "metadata": {
        "colab": {
          "base_uri": "https://localhost:8080/"
        },
        "id": "BNRMiYBL0M75",
        "outputId": "048a3da6-15d5-4d50-b8a8-0c0a109e05c1"
      },
      "execution_count": 39,
      "outputs": [
        {
          "output_type": "execute_result",
          "data": {
            "text/plain": [
              "(torch.Size([60000, 784]), torch.Size([60000, 1]))"
            ]
          },
          "metadata": {},
          "execution_count": 39
        }
      ]
    },
    {
      "cell_type": "code",
      "source": [
        "train_y.squeeze().shape"
      ],
      "metadata": {
        "colab": {
          "base_uri": "https://localhost:8080/"
        },
        "id": "eSN3O7AABhIt",
        "outputId": "4da00a1e-ccfc-4b49-a32b-85c175da02b2"
      },
      "execution_count": 93,
      "outputs": [
        {
          "output_type": "execute_result",
          "data": {
            "text/plain": [
              "torch.Size([60000])"
            ]
          },
          "metadata": {},
          "execution_count": 93
        }
      ]
    },
    {
      "cell_type": "code",
      "source": [
        "dset = list(zip(train_x, train_y))\n",
        "x,y = dset[13000]\n",
        "x.shape, y"
      ],
      "metadata": {
        "colab": {
          "base_uri": "https://localhost:8080/"
        },
        "id": "sxsrWBKr0TD4",
        "outputId": "df2ecadb-1d2f-4d8a-ea53-23ba5615255d"
      },
      "execution_count": 42,
      "outputs": [
        {
          "output_type": "execute_result",
          "data": {
            "text/plain": [
              "(torch.Size([784]), tensor([2]))"
            ]
          },
          "metadata": {},
          "execution_count": 42
        }
      ]
    },
    {
      "cell_type": "code",
      "source": [
        "valid_x = torch.cat(stacked_valid_images).view(-1, 28*28)\n",
        "valid_y =  tensor(valid_results).unsqueeze(1)"
      ],
      "metadata": {
        "id": "R-sbCr-60q2f"
      },
      "execution_count": 52,
      "outputs": []
    },
    {
      "cell_type": "code",
      "source": [
        "valid_x.shape, valid_y.shape"
      ],
      "metadata": {
        "colab": {
          "base_uri": "https://localhost:8080/"
        },
        "id": "poKKRkAL1gqQ",
        "outputId": "23ed898c-dd93-4e4d-d632-703c12bcefe6"
      },
      "execution_count": 53,
      "outputs": [
        {
          "output_type": "execute_result",
          "data": {
            "text/plain": [
              "(torch.Size([10000, 784]), torch.Size([10000, 1]))"
            ]
          },
          "metadata": {},
          "execution_count": 53
        }
      ]
    },
    {
      "cell_type": "code",
      "source": [
        "valid_dset = list(zip(valid_x, valid_y))"
      ],
      "metadata": {
        "id": "WSGZt5GZ2DBO"
      },
      "execution_count": 54,
      "outputs": []
    },
    {
      "cell_type": "code",
      "source": [],
      "metadata": {
        "id": "oqup6x8Q2INi"
      },
      "execution_count": null,
      "outputs": []
    },
    {
      "cell_type": "code",
      "source": [
        "def init_params(size, std=1.0): return (torch.randn(size) * std).requires_grad_()"
      ],
      "metadata": {
        "id": "sZmcFNC62IwE"
      },
      "execution_count": 55,
      "outputs": []
    },
    {
      "cell_type": "code",
      "source": [
        "weights = init_params((28 * 28, 10))\n",
        "bias = init_params(10)"
      ],
      "metadata": {
        "id": "pwoZ3KBO2Q9l"
      },
      "execution_count": 77,
      "outputs": []
    },
    {
      "cell_type": "code",
      "source": [
        "weights.shape, bias.shape"
      ],
      "metadata": {
        "colab": {
          "base_uri": "https://localhost:8080/"
        },
        "id": "vEg9-v2x2YtE",
        "outputId": "c18a523f-25c8-4f6e-d7e8-2c213b7e089e"
      },
      "execution_count": 79,
      "outputs": [
        {
          "output_type": "execute_result",
          "data": {
            "text/plain": [
              "(torch.Size([784, 10]), torch.Size([10]))"
            ]
          },
          "metadata": {},
          "execution_count": 79
        }
      ]
    },
    {
      "cell_type": "code",
      "source": [
        "def linear1(xb): return xb@weights + bias\n",
        "\n",
        "preds = linear1(train_x)\n",
        "preds.shape"
      ],
      "metadata": {
        "colab": {
          "base_uri": "https://localhost:8080/"
        },
        "id": "bZfKbnRk2c8V",
        "outputId": "05666f30-880a-4a9e-a532-724abb0dd029"
      },
      "execution_count": 84,
      "outputs": [
        {
          "output_type": "execute_result",
          "data": {
            "text/plain": [
              "torch.Size([60000, 10])"
            ]
          },
          "metadata": {},
          "execution_count": 84
        }
      ]
    },
    {
      "cell_type": "code",
      "source": [
        "loss_fn = nn.CrossEntropyLoss()\n"
      ],
      "metadata": {
        "id": "1Jaj_C714TpB"
      },
      "execution_count": 81,
      "outputs": []
    },
    {
      "cell_type": "code",
      "source": [
        "loss = loss_fn(preds, train_y.squeeze())"
      ],
      "metadata": {
        "id": "S7irbKPA4V46"
      },
      "execution_count": 94,
      "outputs": []
    },
    {
      "cell_type": "code",
      "source": [
        "loss"
      ],
      "metadata": {
        "colab": {
          "base_uri": "https://localhost:8080/"
        },
        "id": "IE7lvulZ40lh",
        "outputId": "975461d6-8141-4881-a7af-67c696a9ec20"
      },
      "execution_count": 95,
      "outputs": [
        {
          "output_type": "execute_result",
          "data": {
            "text/plain": [
              "tensor(17.4915, grad_fn=<NllLossBackward0>)"
            ]
          },
          "metadata": {},
          "execution_count": 95
        }
      ]
    },
    {
      "cell_type": "code",
      "source": [
        "def mnist_loss(predictions, targets):\n",
        "  return loss_fn(predictions, targets.squeeze())"
      ],
      "metadata": {
        "id": "8LIc3RGwC0pQ"
      },
      "execution_count": 144,
      "outputs": []
    },
    {
      "cell_type": "code",
      "source": [
        "weights = init_params(((28 * 28), 10))\n",
        "bias = init_params(10)"
      ],
      "metadata": {
        "id": "cz3FsLVoDBRK"
      },
      "execution_count": 97,
      "outputs": []
    },
    {
      "cell_type": "code",
      "source": [
        "dl = DataLoader(dset, batch_size=256)\n",
        "xb, yb = first(dl)\n",
        "xb.shape, yb.shape"
      ],
      "metadata": {
        "colab": {
          "base_uri": "https://localhost:8080/"
        },
        "id": "Fp5Wu5kvDDz6",
        "outputId": "d9343c42-db9c-49bc-f6ef-92c02a02641d"
      },
      "execution_count": 98,
      "outputs": [
        {
          "output_type": "execute_result",
          "data": {
            "text/plain": [
              "(torch.Size([256, 784]), torch.Size([256, 1]))"
            ]
          },
          "metadata": {},
          "execution_count": 98
        }
      ]
    },
    {
      "cell_type": "code",
      "source": [
        "valid_dl = DataLoader(valid_dset, batch_size=256)"
      ],
      "metadata": {
        "id": "k3vKq9VcDIjL"
      },
      "execution_count": 99,
      "outputs": []
    },
    {
      "cell_type": "code",
      "source": [
        "batch = train_x[:4]\n",
        "batch.shape"
      ],
      "metadata": {
        "colab": {
          "base_uri": "https://localhost:8080/"
        },
        "id": "V7QVhigZDK7d",
        "outputId": "efa2f06f-286c-486d-95e1-38341390e8c6"
      },
      "execution_count": 100,
      "outputs": [
        {
          "output_type": "execute_result",
          "data": {
            "text/plain": [
              "torch.Size([4, 784])"
            ]
          },
          "metadata": {},
          "execution_count": 100
        }
      ]
    },
    {
      "cell_type": "code",
      "source": [
        "preds = linear1(batch)"
      ],
      "metadata": {
        "id": "miXui8WRDOBn"
      },
      "execution_count": 102,
      "outputs": []
    },
    {
      "cell_type": "code",
      "source": [
        "loss = mnist_loss(preds, train_y[:4].squeeze())\n",
        "loss"
      ],
      "metadata": {
        "colab": {
          "base_uri": "https://localhost:8080/"
        },
        "id": "aFAwc8BiDTc6",
        "outputId": "1217e351-6975-47e0-fbb2-142860925529"
      },
      "execution_count": 104,
      "outputs": [
        {
          "output_type": "execute_result",
          "data": {
            "text/plain": [
              "tensor(0.1048, grad_fn=<NllLossBackward0>)"
            ]
          },
          "metadata": {},
          "execution_count": 104
        }
      ]
    },
    {
      "cell_type": "code",
      "source": [
        "loss.backward()"
      ],
      "metadata": {
        "id": "Y2_JSfIgDZpP"
      },
      "execution_count": 105,
      "outputs": []
    },
    {
      "cell_type": "code",
      "source": [
        "weights.grad.shape, weights.grad.mean(), bias.grad"
      ],
      "metadata": {
        "colab": {
          "base_uri": "https://localhost:8080/"
        },
        "id": "SEhT-qDeDciR",
        "outputId": "715cb1ba-1af3-4adb-fc0f-f5d43a058e34"
      },
      "execution_count": 106,
      "outputs": [
        {
          "output_type": "execute_result",
          "data": {
            "text/plain": [
              "(torch.Size([784, 10]),\n",
              " tensor(-5.1318e-10),\n",
              " tensor([-8.9473e-02,  2.0751e-07,  2.3304e-07,  1.4743e-07,  1.2066e-04,\n",
              "          1.2091e-02,  1.3534e-08,  3.0806e-04,  7.6953e-02,  2.7351e-13]))"
            ]
          },
          "metadata": {},
          "execution_count": 106
        }
      ]
    },
    {
      "cell_type": "code",
      "source": [
        "def calc_grad(xb, yb, model):\n",
        "  preds = model(xb)\n",
        "  loss = mnist_loss(preds, yb)\n",
        "  loss.backward()"
      ],
      "metadata": {
        "id": "fFuWwYlRDjUQ"
      },
      "execution_count": 107,
      "outputs": []
    },
    {
      "cell_type": "code",
      "source": [
        "calc_grad(batch, train_y[:4].squeeze(), linear1)"
      ],
      "metadata": {
        "id": "ETWLsfqADl0P"
      },
      "execution_count": 109,
      "outputs": []
    },
    {
      "cell_type": "code",
      "source": [
        "def train_epoch(model, lr, params):\n",
        "  for xb,yb in dl:\n",
        "    calc_grad(xb, yb.squeeze(), model)\n",
        "    for p in params:\n",
        "      p.data -= p.grad * lr\n",
        "      p.grad.zero_()"
      ],
      "metadata": {
        "id": "2lAv6QSNDrQk"
      },
      "execution_count": 135,
      "outputs": []
    },
    {
      "cell_type": "code",
      "source": [
        "preds.shape"
      ],
      "metadata": {
        "colab": {
          "base_uri": "https://localhost:8080/"
        },
        "id": "IseE-r1o26Lu",
        "outputId": "897392be-76ee-4c5f-8d4b-de2cc4950e4f"
      },
      "execution_count": 131,
      "outputs": [
        {
          "output_type": "execute_result",
          "data": {
            "text/plain": [
              "torch.Size([4, 10])"
            ]
          },
          "metadata": {},
          "execution_count": 131
        }
      ]
    },
    {
      "cell_type": "code",
      "source": [
        "def batch_accuracy(xb, yb):\n",
        "  preds = xb.sigmoid()\n",
        "  correct = xb.argmax(dim=1) == yb\n",
        "  return correct.float().mean()"
      ],
      "metadata": {
        "id": "aT4MUkjG2oMP"
      },
      "execution_count": 128,
      "outputs": []
    },
    {
      "cell_type": "code",
      "source": [
        "batch_accuracy(preds, train_y)"
      ],
      "metadata": {
        "colab": {
          "base_uri": "https://localhost:8080/"
        },
        "id": "UFBmdwR3G3MF",
        "outputId": "a64f8ffc-61e2-4358-d67d-ec0f7d5bc8f7"
      },
      "execution_count": 132,
      "outputs": [
        {
          "output_type": "execute_result",
          "data": {
            "text/plain": [
              "tensor(0.0987)"
            ]
          },
          "metadata": {},
          "execution_count": 132
        }
      ]
    },
    {
      "cell_type": "code",
      "source": [
        "x = torch.randn(2, 3)\n",
        "print(x)\n",
        "\n",
        "x.argmax(dim=1)"
      ],
      "metadata": {
        "colab": {
          "base_uri": "https://localhost:8080/"
        },
        "id": "dGUFImnrFk_u",
        "outputId": "76536e9b-1fbd-43b6-de9e-40b5dee4d055"
      },
      "execution_count": 123,
      "outputs": [
        {
          "output_type": "stream",
          "name": "stdout",
          "text": [
            "tensor([[-0.7630,  1.8518, -0.8048],\n",
            "        [ 1.6010,  0.6717,  0.8892]])\n"
          ]
        },
        {
          "output_type": "execute_result",
          "data": {
            "text/plain": [
              "tensor([1, 0])"
            ]
          },
          "metadata": {},
          "execution_count": 123
        }
      ]
    },
    {
      "cell_type": "code",
      "source": [
        "tensor([2]) == tensor([23])"
      ],
      "metadata": {
        "colab": {
          "base_uri": "https://localhost:8080/"
        },
        "id": "aXrwB2nVGARD",
        "outputId": "55d73abc-6822-4744-d803-29734fe06440"
      },
      "execution_count": 118,
      "outputs": [
        {
          "output_type": "execute_result",
          "data": {
            "text/plain": [
              "tensor([False])"
            ]
          },
          "metadata": {},
          "execution_count": 118
        }
      ]
    },
    {
      "cell_type": "code",
      "source": [
        "def validate_epoch(model):\n",
        "  accs = [batch_accuracy(model(xb), yb) for xb,yb in valid_dl]\n",
        "  return round(torch.stack(accs).mean().item(), 4)"
      ],
      "metadata": {
        "id": "zuL-fVZZHUWn"
      },
      "execution_count": 130,
      "outputs": []
    },
    {
      "cell_type": "code",
      "source": [
        "validate_epoch(linear1)"
      ],
      "metadata": {
        "colab": {
          "base_uri": "https://localhost:8080/"
        },
        "id": "iCREjJUNHy1a",
        "outputId": "db62b754-b3b9-4265-995e-036c481259de"
      },
      "execution_count": 133,
      "outputs": [
        {
          "output_type": "execute_result",
          "data": {
            "text/plain": [
              "0.1576"
            ]
          },
          "metadata": {},
          "execution_count": 133
        }
      ]
    },
    {
      "cell_type": "code",
      "source": [
        "lr = 1\n",
        "params = weights,bias\n",
        "train_epoch(linear1, lr, params)\n",
        "validate_epoch(linear1)"
      ],
      "metadata": {
        "colab": {
          "base_uri": "https://localhost:8080/"
        },
        "id": "4u2eTsxlIkYF",
        "outputId": "1134e40f-2529-4cf9-9383-dc5e8206da1a"
      },
      "execution_count": 136,
      "outputs": [
        {
          "output_type": "execute_result",
          "data": {
            "text/plain": [
              "0.1869"
            ]
          },
          "metadata": {},
          "execution_count": 136
        }
      ]
    },
    {
      "cell_type": "code",
      "source": [
        "for i in range(20):\n",
        "  train_epoch(linear1, lr, params)\n",
        "  print(validate_epoch(linear1), end=' ')"
      ],
      "metadata": {
        "colab": {
          "base_uri": "https://localhost:8080/"
        },
        "id": "WX9pDC_tM8s0",
        "outputId": "89a5c3ca-8847-4c0f-b6ef-912b4c6ac504"
      },
      "execution_count": 138,
      "outputs": [
        {
          "output_type": "stream",
          "name": "stdout",
          "text": [
            "0.4735 0.4748 0.4765 0.4779 0.4795 0.4804 0.4812 0.4818 0.4824 0.4833 0.485 0.4849 0.4853 0.4857 0.4863 0.4867 0.4869 0.4872 0.4883 0.4887 "
          ]
        }
      ]
    },
    {
      "cell_type": "code",
      "source": [
        "class MLearner:\n",
        "  def __init__(self, dls, model, opt_func, loss_func, metrics):\n",
        "    self.dls = dls\n",
        "    self.model = model\n",
        "    self.opt_func = opt_func\n",
        "    self.loss_func = loss_func\n",
        "    self.metrics = metrics\n",
        "\n",
        "  def fit(self, epoch, lr):\n",
        "    for i in range(epoch):\n",
        "      for xb,yb in self.dls[0]:\n",
        "        preds = self.model(xb)\n",
        "        loss = self.loss_func(preds, yb)\n",
        "        loss.backward()\n",
        "\n",
        "        self.model.weight.data -= self.model.weight.grad * lr\n",
        "        self.model.weight.grad.zero_()\n",
        "\n",
        "        self.model.bias.data -= self.model.bias.grad * lr\n",
        "        self.model.bias.grad.zero_()\n",
        "\n",
        "      accs = [self.metrics(self.model(xb), yb) for xb,yb in self.dls[1]]\n",
        "      print(round(torch.stack(accs).mean().item(), 4))\n"
      ],
      "metadata": {
        "id": "ouMZLFZBOu6Y"
      },
      "execution_count": 148,
      "outputs": []
    },
    {
      "cell_type": "code",
      "source": [
        "learner = MLearner([dl, valid_dl], nn.Linear(28*28, 10), opt_func=\"SGD\", loss_func = mnist_loss, metrics=batch_accuracy)"
      ],
      "metadata": {
        "id": "U1fHuI7gTM7s"
      },
      "execution_count": 149,
      "outputs": []
    },
    {
      "cell_type": "code",
      "source": [
        "learner.fit(100, 20)"
      ],
      "metadata": {
        "colab": {
          "base_uri": "https://localhost:8080/"
        },
        "id": "FL_SqfxRTz0R",
        "outputId": "7564714a-523d-4172-f42f-002e2a801f73"
      },
      "execution_count": 154,
      "outputs": [
        {
          "output_type": "stream",
          "name": "stdout",
          "text": [
            "0.4753\n",
            "0.4728\n",
            "0.4735\n",
            "0.4752\n",
            "0.4768\n",
            "0.4694\n",
            "0.4814\n",
            "0.4766\n",
            "0.4772\n",
            "0.4781\n",
            "0.4758\n",
            "0.478\n",
            "0.4767\n",
            "0.461\n",
            "0.4908\n",
            "0.4787\n",
            "0.4774\n",
            "0.4708\n",
            "0.4905\n",
            "0.4749\n",
            "0.4847\n",
            "0.4771\n",
            "0.4857\n",
            "0.4779\n",
            "0.4827\n",
            "0.4834\n",
            "0.4772\n",
            "0.4896\n",
            "0.4749\n",
            "0.4811\n",
            "0.4795\n",
            "0.4878\n",
            "0.4751\n",
            "0.4841\n",
            "0.4664\n",
            "0.4915\n",
            "0.4879\n",
            "0.4743\n",
            "0.4897\n",
            "0.4748\n",
            "0.4914\n",
            "0.4796\n",
            "0.489\n",
            "0.4737\n",
            "0.4941\n",
            "0.4773\n",
            "0.4875\n",
            "0.4763\n",
            "0.489\n",
            "0.4819\n",
            "0.4771\n",
            "0.4877\n",
            "0.474\n",
            "0.4875\n",
            "0.4835\n",
            "0.4809\n",
            "0.4833\n",
            "0.4763\n",
            "0.4885\n",
            "0.48\n",
            "0.4934\n",
            "0.4795\n",
            "0.4904\n",
            "0.4731\n",
            "0.4907\n",
            "0.4887\n",
            "0.4795\n",
            "0.4865\n",
            "0.4817\n",
            "0.488\n",
            "0.4878\n",
            "0.4877\n",
            "0.476\n",
            "0.485\n",
            "0.4906\n",
            "0.4755\n",
            "0.4945\n",
            "0.4881\n",
            "0.4862\n",
            "0.4908\n",
            "0.4851\n",
            "0.4908\n",
            "0.4749\n",
            "0.4949\n",
            "0.4891\n",
            "0.4898\n",
            "0.4744\n",
            "0.4925\n",
            "0.4793\n",
            "0.4884\n",
            "0.4829\n",
            "0.4889\n",
            "0.4838\n",
            "0.4947\n",
            "0.4796\n",
            "0.4922\n",
            "0.4836\n",
            "0.4928\n",
            "0.4833\n",
            "0.496\n"
          ]
        }
      ]
    },
    {
      "cell_type": "code",
      "source": [],
      "metadata": {
        "id": "SXrQS2tuVnom"
      },
      "execution_count": null,
      "outputs": []
    },
    {
      "cell_type": "code",
      "source": [],
      "metadata": {
        "id": "5PiCCzYhPM7X"
      },
      "execution_count": null,
      "outputs": []
    }
  ]
}