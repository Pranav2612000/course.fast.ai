{
  "nbformat": 4,
  "nbformat_minor": 0,
  "metadata": {
    "colab": {
      "provenance": []
    },
    "kernelspec": {
      "name": "python3",
      "display_name": "Python 3"
    },
    "language_info": {
      "name": "python"
    }
  },
  "cells": [
    {
      "cell_type": "code",
      "source": [
        "!pip install fastbook"
      ],
      "metadata": {
        "id": "vGNYP27plfCN"
      },
      "execution_count": null,
      "outputs": []
    },
    {
      "cell_type": "code",
      "source": [
        "import fastbook\n",
        "fastbook.setup_book()"
      ],
      "metadata": {
        "colab": {
          "base_uri": "https://localhost:8080/"
        },
        "id": "Ac5VLDj_mHTv",
        "outputId": "54d41296-efd4-4c4b-a769-7dd6729702eb"
      },
      "execution_count": 8,
      "outputs": [
        {
          "output_type": "stream",
          "name": "stdout",
          "text": [
            "Mounted at /content/gdrive\n"
          ]
        }
      ]
    },
    {
      "cell_type": "code",
      "execution_count": 11,
      "metadata": {
        "id": "HWe1a5N_kyFy"
      },
      "outputs": [],
      "source": [
        "from fastai.vision.all import *\n",
        "from fastai.data.external import untar_data, URLs\n",
        "from fastbook import *"
      ]
    },
    {
      "cell_type": "code",
      "source": [
        "path = untar_data(URLs.MNIST)"
      ],
      "metadata": {
        "colab": {
          "base_uri": "https://localhost:8080/",
          "height": 37
        },
        "id": "h0uNHciDlO4d",
        "outputId": "7d9f828f-6a7b-4b48-cdf6-11d84c4574b0"
      },
      "execution_count": 17,
      "outputs": [
        {
          "output_type": "display_data",
          "data": {
            "text/plain": [
              "<IPython.core.display.HTML object>"
            ],
            "text/html": [
              "\n",
              "<style>\n",
              "    /* Turns off some styling */\n",
              "    progress {\n",
              "        /* gets rid of default border in Firefox and Opera. */\n",
              "        border: none;\n",
              "        /* Needs to be in here for Safari polyfill so background images work as expected. */\n",
              "        background-size: auto;\n",
              "    }\n",
              "    progress:not([value]), progress:not([value])::-webkit-progress-bar {\n",
              "        background: repeating-linear-gradient(45deg, #7e7e7e, #7e7e7e 10px, #5c5c5c 10px, #5c5c5c 20px);\n",
              "    }\n",
              "    .progress-bar-interrupted, .progress-bar-interrupted::-webkit-progress-bar {\n",
              "        background: #F44336;\n",
              "    }\n",
              "</style>\n"
            ]
          },
          "metadata": {}
        },
        {
          "output_type": "display_data",
          "data": {
            "text/plain": [
              "<IPython.core.display.HTML object>"
            ],
            "text/html": [
              "\n",
              "    <div>\n",
              "      <progress value='15687680' class='' max='15683414' style='width:300px; height:20px; vertical-align: middle;'></progress>\n",
              "      100.03% [15687680/15683414 00:00&lt;00:00]\n",
              "    </div>\n",
              "    "
            ]
          },
          "metadata": {}
        }
      ]
    },
    {
      "cell_type": "code",
      "source": [
        "Path.BASE_PATH = path"
      ],
      "metadata": {
        "id": "iZKbcA3TnUmR"
      },
      "execution_count": 18,
      "outputs": []
    },
    {
      "cell_type": "code",
      "source": [
        "path.ls()"
      ],
      "metadata": {
        "colab": {
          "base_uri": "https://localhost:8080/"
        },
        "id": "fBRuvA7-nXEB",
        "outputId": "e2ae824e-d9ff-4340-e009-5b5b4b9ff4cb"
      },
      "execution_count": 19,
      "outputs": [
        {
          "output_type": "execute_result",
          "data": {
            "text/plain": [
              "(#2) [Path('testing'),Path('training')]"
            ]
          },
          "metadata": {},
          "execution_count": 19
        }
      ]
    },
    {
      "cell_type": "code",
      "source": [
        "(path/'training').ls()"
      ],
      "metadata": {
        "colab": {
          "base_uri": "https://localhost:8080/"
        },
        "id": "1UsH5lhnnb4M",
        "outputId": "58466b92-64d5-4c53-aa7c-898031bd057c"
      },
      "execution_count": 21,
      "outputs": [
        {
          "output_type": "execute_result",
          "data": {
            "text/plain": [
              "(#10) [Path('training/3'),Path('training/9'),Path('training/2'),Path('training/1'),Path('training/4'),Path('training/5'),Path('training/7'),Path('training/8'),Path('training/6'),Path('training/0')]"
            ]
          },
          "metadata": {},
          "execution_count": 21
        }
      ]
    },
    {
      "cell_type": "code",
      "source": [
        "threes = (path/'training'/'3').ls().sorted()\n",
        "sevens = (path/'training'/'7').ls().sorted()"
      ],
      "metadata": {
        "id": "9bmPPoGbn7SF"
      },
      "execution_count": 23,
      "outputs": []
    },
    {
      "cell_type": "code",
      "source": [
        "threes\n",
        "im3 = Image.open(threes[1])\n",
        "im3"
      ],
      "metadata": {
        "colab": {
          "base_uri": "https://localhost:8080/",
          "height": 45
        },
        "id": "CvTHsxuZoGZM",
        "outputId": "a4ac34c7-1a7f-4e5e-ea0a-4170eaf8ce15"
      },
      "execution_count": 26,
      "outputs": [
        {
          "output_type": "execute_result",
          "data": {
            "text/plain": [
              "<PIL.PngImagePlugin.PngImageFile image mode=L size=28x28>"
            ],
            "image/png": "[encoded data removed]"
          },
          "metadata": {},
          "execution_count": 26
        }
      ]
    },
    {
      "cell_type": "code",
      "source": [
        "im3_t = tensor(im3)\n",
        "df = pd.DataFrame(im3_t)\n",
        "df.style.set_properties(**{'font-size': '6pt'}).background_gradient('Greys')"
      ],
      "metadata": {
        "id": "Y6ZaTQnfoOw7"
      },
      "execution_count": null,
      "outputs": []
    },
    {
      "cell_type": "markdown",
      "source": [
        "# Pixel Similarity"
      ],
      "metadata": {
        "id": "R0STNGQspDYD"
      }
    },
    {
      "cell_type": "code",
      "source": [
        "seven_tensors = [tensor(Image.open(o)) for o in sevens]\n",
        "three_tensors = [tensor(Image.open(o)) for o in threes]"
      ],
      "metadata": {
        "id": "M-M9TvBnoztu"
      },
      "execution_count": 31,
      "outputs": []
    },
    {
      "cell_type": "code",
      "source": [
        "show_image(seven_tensors[0])"
      ],
      "metadata": {
        "colab": {
          "base_uri": "https://localhost:8080/",
          "height": 132
        },
        "id": "KTFn1zhxpTTK",
        "outputId": "8cbbce5d-1a58-447e-b3b9-7ba2711870eb"
      },
      "execution_count": 32,
      "outputs": [
        {
          "output_type": "execute_result",
          "data": {
            "text/plain": [
              "<Axes: >"
            ]
          },
          "metadata": {},
          "execution_count": 32
        },
        {
          "output_type": "display_data",
          "data": {
            "text/plain": [
              "<Figure size 100x100 with 1 Axes>"
            ],
            "image/png": "[encoded data removed]"
          },
          "metadata": {}
        }
      ]
    },
    {
      "cell_type": "code",
      "source": [
        "stacked_sevens = torch.stack(seven_tensors).float()/255\n",
        "stacked_threes = torch.stack(three_tensors).float()/255"
      ],
      "metadata": {
        "id": "4xahGF9JpeLJ"
      },
      "execution_count": 33,
      "outputs": []
    },
    {
      "cell_type": "code",
      "source": [
        "stacked_sevens.shape"
      ],
      "metadata": {
        "colab": {
          "base_uri": "https://localhost:8080/"
        },
        "id": "J2PZS01Kp0l4",
        "outputId": "baeec098-8e2f-4729-d889-06dcd10bc294"
      },
      "execution_count": 35,
      "outputs": [
        {
          "output_type": "execute_result",
          "data": {
            "text/plain": [
              "torch.Size([6265, 28, 28])"
            ]
          },
          "metadata": {},
          "execution_count": 35
        }
      ]
    },
    {
      "cell_type": "code",
      "source": [
        "mean3 = stacked_threes.mean(0)\n",
        "show_image(mean3)"
      ],
      "metadata": {
        "colab": {
          "base_uri": "https://localhost:8080/",
          "height": 132
        },
        "id": "ahgyIIqpp9R7",
        "outputId": "21516e06-51e8-431a-b7d2-23ba3155d768"
      },
      "execution_count": 37,
      "outputs": [
        {
          "output_type": "execute_result",
          "data": {
            "text/plain": [
              "<Axes: >"
            ]
          },
          "metadata": {},
          "execution_count": 37
        },
        {
          "output_type": "display_data",
          "data": {
            "text/plain": [
              "<Figure size 100x100 with 1 Axes>"
            ],
            "image/png": "[encoded data removed]"
          },
          "metadata": {}
        }
      ]
    },
    {
      "cell_type": "code",
      "source": [
        "mean7 = stacked_sevens.mean(0)\n",
        "show_image(mean7)"
      ],
      "metadata": {
        "colab": {
          "base_uri": "https://localhost:8080/",
          "height": 132
        },
        "id": "hDSiY9jQqcvH",
        "outputId": "ba05a52c-40cd-4937-9876-62b09320961b"
      },
      "execution_count": 38,
      "outputs": [
        {
          "output_type": "execute_result",
          "data": {
            "text/plain": [
              "<Axes: >"
            ]
          },
          "metadata": {},
          "execution_count": 38
        },
        {
          "output_type": "display_data",
          "data": {
            "text/plain": [
              "<Figure size 100x100 with 1 Axes>"
            ],
            "image/png": "[encoded data removed]"
          },
          "metadata": {}
        }
      ]
    },
    {
      "cell_type": "code",
      "source": [
        "a_3 = stacked_threes[1]\n",
        "F.l1_loss(a_3.float(), mean7), F.mse_loss(a_3, mean7).sqrt()"
      ],
      "metadata": {
        "colab": {
          "base_uri": "https://localhost:8080/"
        },
        "id": "16K0W8b_qpKU",
        "outputId": "ecde75bf-8318-45a6-bdbd-4caa31f9ca3a"
      },
      "execution_count": 40,
      "outputs": [
        {
          "output_type": "execute_result",
          "data": {
            "text/plain": [
              "(tensor(0.1586), tensor(0.3021))"
            ]
          },
          "metadata": {},
          "execution_count": 40
        }
      ]
    },
    {
      "cell_type": "code",
      "source": [
        "valid_3_tens = torch.stack([tensor(Image.open(o)) for o in (path/'testing'/'3').ls()])\n",
        "valid_7_tens = torch.stack([tensor(Image.open(o)) for o in (path/'testing'/'7').ls()])\n",
        "\n",
        "valid_3_tens = valid_3_tens.float() / 255\n",
        "valid_7_tens = valid_7_tens.float() / 255\n",
        "\n",
        "\n",
        "valid_3_tens.shape, valid_7_tens.shape"
      ],
      "metadata": {
        "colab": {
          "base_uri": "https://localhost:8080/"
        },
        "id": "6Mq403z8rQ7q",
        "outputId": "92d8261b-5ed1-4ed0-dff7-09318cf4af36"
      },
      "execution_count": 43,
      "outputs": [
        {
          "output_type": "execute_result",
          "data": {
            "text/plain": [
              "(torch.Size([1010, 28, 28]), torch.Size([1028, 28, 28]))"
            ]
          },
          "metadata": {},
          "execution_count": 43
        }
      ]
    },
    {
      "cell_type": "code",
      "source": [
        "def mnist_distance(a, b): return (a - b).abs().mean((-1, -2))"
      ],
      "metadata": {
        "id": "RsCbfcLfsv0F"
      },
      "execution_count": 44,
      "outputs": []
    },
    {
      "cell_type": "code",
      "source": [
        "valid_3_dist = mnist_distance(valid_3_tens, mean3)\n",
        "valid_3_dist, valid_3_dist.shape"
      ],
      "metadata": {
        "colab": {
          "base_uri": "https://localhost:8080/"
        },
        "id": "_P1FT7bltopx",
        "outputId": "540712cb-c869-4bb9-b0f4-240fb62227f2"
      },
      "execution_count": 46,
      "outputs": [
        {
          "output_type": "execute_result",
          "data": {
            "text/plain": [
              "(tensor([0.1233, 0.1125, 0.1324,  ..., 0.1187, 0.1181, 0.1116]),\n",
              " torch.Size([1010]))"
            ]
          },
          "metadata": {},
          "execution_count": 46
        }
      ]
    },
    {
      "cell_type": "code",
      "source": [
        "def is_3(x): return mnist_distance(x, mean3) < mnist_distance(x, mean7)"
      ],
      "metadata": {
        "id": "3JpuRHd3t0ZZ"
      },
      "execution_count": 47,
      "outputs": []
    },
    {
      "cell_type": "code",
      "source": [
        "is_3(a_3)"
      ],
      "metadata": {
        "colab": {
          "base_uri": "https://localhost:8080/"
        },
        "id": "huubYnaZt5Kq",
        "outputId": "60bf9c3a-04d3-466e-b5b7-715dae7ab332"
      },
      "execution_count": 48,
      "outputs": [
        {
          "output_type": "execute_result",
          "data": {
            "text/plain": [
              "tensor(True)"
            ]
          },
          "metadata": {},
          "execution_count": 48
        }
      ]
    },
    {
      "cell_type": "code",
      "source": [
        "accuracy_3s = is_3(valid_3_tens).float().mean()\n",
        "accuracy_7s = (1 - is_3(valid_7_tens).float()).mean()\n",
        "\n",
        "accuracy_3s, accuracy_7s, (accuracy_3s + accuracy_7s)/2"
      ],
      "metadata": {
        "colab": {
          "base_uri": "https://localhost:8080/"
        },
        "id": "oBB02mYzuAPS",
        "outputId": "d29ff525-82dd-4093-829e-310b1f49b6c7"
      },
      "execution_count": 52,
      "outputs": [
        {
          "output_type": "execute_result",
          "data": {
            "text/plain": [
              "(tensor(0.9168), tensor(0.9854), tensor(0.9511))"
            ]
          },
          "metadata": {},
          "execution_count": 52
        }
      ]
    },
    {
      "cell_type": "markdown",
      "source": [
        "# SGD"
      ],
      "metadata": {
        "id": "pDNMOFfRusWs"
      }
    },
    {
      "cell_type": "code",
      "source": [
        "train_x = torch.cat([stacked_threes, stacked_sevens]).view(-1, 28*28)"
      ],
      "metadata": {
        "id": "fOYxFcRSutgj"
      },
      "execution_count": 53,
      "outputs": []
    },
    {
      "cell_type": "code",
      "source": [
        "train_y = tensor([1] * len(threes) + [0] * len(sevens)).unsqueeze(1)"
      ],
      "metadata": {
        "id": "7Y0LcTRszPxc"
      },
      "execution_count": 56,
      "outputs": []
    },
    {
      "cell_type": "code",
      "source": [
        "dset = list(zip(train_x, train_y))\n",
        "x,y = dset[0]\n",
        "x.shape, y"
      ],
      "metadata": {
        "colab": {
          "base_uri": "https://localhost:8080/"
        },
        "id": "oOyzJL2UuFeG",
        "outputId": "e49ec06b-d5b0-4b5b-fe7f-893e1c84b68f"
      },
      "execution_count": 58,
      "outputs": [
        {
          "output_type": "execute_result",
          "data": {
            "text/plain": [
              "(torch.Size([784]), tensor([1]))"
            ]
          },
          "metadata": {},
          "execution_count": 58
        }
      ]
    },
    {
      "cell_type": "code",
      "source": [
        "valid_x = torch.cat([valid_3_tens, valid_7_tens]).view(-1, 28*28)\n",
        "valid_y = tensor([1] * len(valid_3_tens) + [0] * len(valid_7_tens)).unsqueeze(1)\n",
        "valid_dset = list(zip(valid_x, valid_y))"
      ],
      "metadata": {
        "id": "eWe22epTzs2y"
      },
      "execution_count": 59,
      "outputs": []
    },
    {
      "cell_type": "code",
      "source": [
        "def init_params(size, std=1.0): return (torch.randn(size) * std).requires_grad_()"
      ],
      "metadata": {
        "id": "kH5HXJRt0DRC"
      },
      "execution_count": 61,
      "outputs": []
    },
    {
      "cell_type": "code",
      "source": [
        "weights = init_params((28 * 28, 1))\n",
        "bias = init_params(1)"
      ],
      "metadata": {
        "id": "guJeQpS60TYH"
      },
      "execution_count": 64,
      "outputs": []
    },
    {
      "cell_type": "code",
      "source": [
        "weights"
      ],
      "metadata": {
        "colab": {
          "base_uri": "https://localhost:8080/"
        },
        "id": "6pOqsqcj21MQ",
        "outputId": "1dfccbe7-bef9-46a0-8c22-3e0e238d7a67"
      },
      "execution_count": 69,
      "outputs": [
        {
          "output_type": "execute_result",
          "data": {
            "text/plain": [
              "tensor([[ 1.6917e-02],\n",
              "        [ 8.0277e-02],\n",
              "        [ 7.4484e-01],\n",
              "        [ 1.3455e+00],\n",
              "        [ 1.2682e-01],\n",
              "        [-2.4521e+00],\n",
              "        [ 4.1598e-01],\n",
              "        [ 1.9025e+00],\n",
              "        [-7.3467e-01],\n",
              "        [ 4.4657e-02],\n",
              "        [-1.5211e+00],\n",
              "        [ 3.4784e-01],\n",
              "        [ 7.4018e-01],\n",
              "        [ 1.4162e+00],\n",
              "        [ 6.8340e-01],\n",
              "        [-1.3825e-01],\n",
              "        [ 9.2130e-01],\n",
              "        [ 5.2824e-01],\n",
              "        [-8.2284e-03],\n",
              "        [-1.4493e+00],\n",
              "        [-6.0518e-01],\n",
              "        [-1.7925e-01],\n",
              "        [ 1.9956e-01],\n",
              "        [-1.2462e+00],\n",
              "        [-4.1460e-01],\n",
              "        [ 1.4559e+00],\n",
              "        [ 3.3165e-01],\n",
              "        [-1.0001e+00],\n",
              "        [-6.9195e-01],\n",
              "        [-4.7199e-01],\n",
              "        [-1.2894e+00],\n",
              "        [ 1.0763e+00],\n",
              "        [-1.0667e+00],\n",
              "        [-1.9893e+00],\n",
              "        [ 2.9731e-01],\n",
              "        [ 4.3446e-01],\n",
              "        [ 3.3933e-03],\n",
              "        [-1.0240e+00],\n",
              "        [ 2.2405e-01],\n",
              "        [-7.5548e-01],\n",
              "        [ 1.3676e+00],\n",
              "        [-3.1974e-01],\n",
              "        [-9.1309e-01],\n",
              "        [ 1.9192e+00],\n",
              "        [-1.6515e+00],\n",
              "        [ 2.1477e+00],\n",
              "        [-6.6041e-01],\n",
              "        [ 1.1353e-01],\n",
              "        [-2.2057e-01],\n",
              "        [ 7.1181e-01],\n",
              "        [ 3.4159e-01],\n",
              "        [ 1.5886e+00],\n",
              "        [-3.4888e-01],\n",
              "        [-4.5792e-01],\n",
              "        [-1.2322e+00],\n",
              "        [-5.9808e-01],\n",
              "        [-2.8155e-01],\n",
              "        [ 5.2819e-02],\n",
              "        [ 4.2498e-01],\n",
              "        [ 4.8258e-01],\n",
              "        [ 4.8813e-01],\n",
              "        [ 1.0082e+00],\n",
              "        [-5.9500e-01],\n",
              "        [ 3.9263e-01],\n",
              "        [ 8.2297e-01],\n",
              "        [-8.8603e-01],\n",
              "        [ 1.4801e+00],\n",
              "        [ 8.3915e-01],\n",
              "        [-2.0005e-01],\n",
              "        [ 9.9495e-01],\n",
              "        [ 7.2019e-01],\n",
              "        [-1.3413e-01],\n",
              "        [-1.4068e+00],\n",
              "        [-2.3610e+00],\n",
              "        [-2.9049e-01],\n",
              "        [-1.3346e-01],\n",
              "        [-1.5693e-01],\n",
              "        [ 1.1383e+00],\n",
              "        [-2.5052e-01],\n",
              "        [ 1.6705e+00],\n",
              "        [-5.4527e-01],\n",
              "        [-2.1582e+00],\n",
              "        [-1.6608e+00],\n",
              "        [-6.6374e-01],\n",
              "        [ 3.6579e-01],\n",
              "        [-3.9920e-01],\n",
              "        [ 4.9674e-01],\n",
              "        [-2.3692e+00],\n",
              "        [-5.6147e-01],\n",
              "        [-5.9491e-01],\n",
              "        [ 1.2687e+00],\n",
              "        [ 1.2904e+00],\n",
              "        [-1.1756e+00],\n",
              "        [-7.8323e-02],\n",
              "        [-9.7058e-01],\n",
              "        [ 1.4724e+00],\n",
              "        [ 1.4109e+00],\n",
              "        [-1.3144e+00],\n",
              "        [-1.3162e+00],\n",
              "        [-1.2524e+00],\n",
              "        [-1.5844e+00],\n",
              "        [-2.5447e+00],\n",
              "        [ 1.3719e+00],\n",
              "        [-5.3795e-01],\n",
              "        [ 7.3784e-01],\n",
              "        [-8.5053e-01],\n",
              "        [ 3.6101e-02],\n",
              "        [ 1.3407e+00],\n",
              "        [ 9.2000e-01],\n",
              "        [-3.7876e-01],\n",
              "        [-1.5598e+00],\n",
              "        [-8.0095e-01],\n",
              "        [-7.1111e-01],\n",
              "        [-3.8667e-01],\n",
              "        [ 9.5783e-01],\n",
              "        [-8.2253e-01],\n",
              "        [-2.3908e+00],\n",
              "        [ 3.2225e-01],\n",
              "        [ 1.8754e+00],\n",
              "        [ 1.1043e+00],\n",
              "        [-5.2238e-01],\n",
              "        [-7.4018e-01],\n",
              "        [ 1.6236e-01],\n",
              "        [-2.3700e-01],\n",
              "        [ 5.0993e-01],\n",
              "        [ 1.6706e+00],\n",
              "        [ 1.5921e+00],\n",
              "        [-4.1619e-01],\n",
              "        [ 1.8619e+00],\n",
              "        [-1.0779e+00],\n",
              "        [ 8.8486e-01],\n",
              "        [-8.3421e-01],\n",
              "        [ 1.0301e+00],\n",
              "        [-8.6810e-01],\n",
              "        [-5.7016e-01],\n",
              "        [ 3.2332e-01],\n",
              "        [ 1.1285e+00],\n",
              "        [-1.2123e+00],\n",
              "        [ 2.6024e+00],\n",
              "        [-9.5724e-02],\n",
              "        [-8.1148e-02],\n",
              "        [ 1.2587e+00],\n",
              "        [ 8.6913e-01],\n",
              "        [-9.6094e-01],\n",
              "        [ 5.1823e-02],\n",
              "        [-3.2848e-01],\n",
              "        [-2.2472e+00],\n",
              "        [-4.4790e-01],\n",
              "        [ 4.2347e-01],\n",
              "        [-3.8746e-01],\n",
              "        [-2.2964e-01],\n",
              "        [-4.0709e-01],\n",
              "        [ 8.7030e-01],\n",
              "        [-1.0553e+00],\n",
              "        [-1.3284e+00],\n",
              "        [ 7.0607e-01],\n",
              "        [ 3.5730e-01],\n",
              "        [ 5.8928e-01],\n",
              "        [ 9.1878e-01],\n",
              "        [ 6.6628e-01],\n",
              "        [ 2.4651e-01],\n",
              "        [ 1.3287e-01],\n",
              "        [ 1.2191e-01],\n",
              "        [ 4.7809e-01],\n",
              "        [ 2.7613e-01],\n",
              "        [-5.8957e-01],\n",
              "        [ 5.6918e-01],\n",
              "        [-7.9111e-01],\n",
              "        [-1.9897e-01],\n",
              "        [-1.3616e+00],\n",
              "        [-5.1936e-01],\n",
              "        [ 7.6482e-02],\n",
              "        [ 3.4005e-01],\n",
              "        [ 1.4557e+00],\n",
              "        [-3.4610e-01],\n",
              "        [-2.6338e-01],\n",
              "        [-4.4770e-01],\n",
              "        [-7.2882e-01],\n",
              "        [-1.6066e-01],\n",
              "        [-3.2064e-01],\n",
              "        [-6.3077e-01],\n",
              "        [-7.8877e-01],\n",
              "        [ 1.3062e+00],\n",
              "        [-9.2758e-01],\n",
              "        [-2.6274e-01],\n",
              "        [ 9.3150e-01],\n",
              "        [-4.5935e-01],\n",
              "        [-9.4195e-01],\n",
              "        [-7.0892e-01],\n",
              "        [ 2.1861e+00],\n",
              "        [-6.4932e-01],\n",
              "        [ 4.5214e-01],\n",
              "        [ 8.5207e-01],\n",
              "        [-1.6947e+00],\n",
              "        [ 1.1806e+00],\n",
              "        [-2.8929e+00],\n",
              "        [-3.8758e-01],\n",
              "        [-7.1240e-01],\n",
              "        [-1.6171e+00],\n",
              "        [-3.5899e-01],\n",
              "        [ 5.1367e-02],\n",
              "        [ 6.9502e-01],\n",
              "        [ 1.8352e+00],\n",
              "        [-1.9180e+00],\n",
              "        [-1.3924e+00],\n",
              "        [ 5.4047e-01],\n",
              "        [ 4.3507e-01],\n",
              "        [-2.2717e+00],\n",
              "        [-1.3386e-01],\n",
              "        [-5.8557e-02],\n",
              "        [ 1.2574e-01],\n",
              "        [-5.5258e-01],\n",
              "        [ 7.4480e-02],\n",
              "        [-1.4929e-01],\n",
              "        [-5.5225e-01],\n",
              "        [-9.3420e-02],\n",
              "        [-1.0284e+00],\n",
              "        [ 4.0444e-01],\n",
              "        [ 2.1426e+00],\n",
              "        [-5.1537e-01],\n",
              "        [ 1.0827e+00],\n",
              "        [ 1.2499e+00],\n",
              "        [ 9.8214e-01],\n",
              "        [ 2.2690e-01],\n",
              "        [ 4.9279e-01],\n",
              "        [-5.1283e-01],\n",
              "        [ 3.0062e-01],\n",
              "        [ 7.7347e-02],\n",
              "        [ 6.4777e-01],\n",
              "        [-4.3242e-01],\n",
              "        [ 1.1740e+00],\n",
              "        [ 7.0114e-01],\n",
              "        [ 6.6743e-01],\n",
              "        [-8.0360e-01],\n",
              "        [-1.3776e+00],\n",
              "        [-4.4105e-01],\n",
              "        [ 1.4176e-01],\n",
              "        [ 1.1085e+00],\n",
              "        [ 5.5442e-01],\n",
              "        [ 1.5818e+00],\n",
              "        [-1.2248e+00],\n",
              "        [ 9.6289e-01],\n",
              "        [-1.5785e+00],\n",
              "        [ 6.7160e-01],\n",
              "        [-6.0152e-02],\n",
              "        [ 6.9784e-02],\n",
              "        [-1.6635e+00],\n",
              "        [-7.6506e-01],\n",
              "        [ 1.2306e+00],\n",
              "        [ 4.2521e-01],\n",
              "        [-1.6383e-02],\n",
              "        [-1.0749e-01],\n",
              "        [-1.3086e+00],\n",
              "        [ 6.5981e-01],\n",
              "        [-7.0325e-02],\n",
              "        [ 2.7448e-01],\n",
              "        [-3.4501e-01],\n",
              "        [-1.1962e-01],\n",
              "        [ 1.1862e+00],\n",
              "        [-1.2203e+00],\n",
              "        [ 2.9100e-01],\n",
              "        [-7.9642e-02],\n",
              "        [ 1.3200e+00],\n",
              "        [-1.5197e+00],\n",
              "        [-2.9336e-01],\n",
              "        [ 2.1066e+00],\n",
              "        [-1.0875e-01],\n",
              "        [ 6.0834e-01],\n",
              "        [ 7.8943e-01],\n",
              "        [ 7.8247e-01],\n",
              "        [-6.4659e-02],\n",
              "        [-2.3021e-04],\n",
              "        [ 6.8309e-01],\n",
              "        [ 1.0637e-01],\n",
              "        [ 3.5032e-01],\n",
              "        [ 1.2110e-01],\n",
              "        [ 2.9843e-01],\n",
              "        [ 1.3448e+00],\n",
              "        [ 1.4614e+00],\n",
              "        [ 1.0566e+00],\n",
              "        [ 8.1554e-01],\n",
              "        [-8.2406e-01],\n",
              "        [ 8.9328e-01],\n",
              "        [-3.8688e-01],\n",
              "        [-3.5718e-01],\n",
              "        [-1.1568e+00],\n",
              "        [-1.7660e+00],\n",
              "        [-2.5380e+00],\n",
              "        [ 9.6943e-02],\n",
              "        [-7.9121e-01],\n",
              "        [ 3.7120e-01],\n",
              "        [ 1.5118e+00],\n",
              "        [-8.9146e-01],\n",
              "        [ 5.2475e-01],\n",
              "        [ 3.5178e-01],\n",
              "        [ 2.4913e-01],\n",
              "        [ 1.1900e+00],\n",
              "        [ 1.4109e+00],\n",
              "        [ 7.9801e-01],\n",
              "        [ 4.9413e-01],\n",
              "        [-1.8495e-01],\n",
              "        [-1.0381e+00],\n",
              "        [-1.0130e-01],\n",
              "        [-9.2718e-01],\n",
              "        [ 2.3484e-01],\n",
              "        [ 8.8615e-02],\n",
              "        [-3.4769e-01],\n",
              "        [ 8.4907e-01],\n",
              "        [ 2.0147e-01],\n",
              "        [ 3.8398e-01],\n",
              "        [ 1.2310e+00],\n",
              "        [ 1.2287e+00],\n",
              "        [ 7.0421e-01],\n",
              "        [-5.6285e-02],\n",
              "        [-1.4897e+00],\n",
              "        [-1.5195e+00],\n",
              "        [ 3.2581e-01],\n",
              "        [-1.4584e+00],\n",
              "        [ 1.8989e+00],\n",
              "        [-4.0566e-02],\n",
              "        [-2.9337e-01],\n",
              "        [ 1.3978e+00],\n",
              "        [-9.1666e-01],\n",
              "        [-7.7937e-01],\n",
              "        [-4.1754e-01],\n",
              "        [ 1.1060e+00],\n",
              "        [ 2.5285e-01],\n",
              "        [-1.0754e-01],\n",
              "        [ 7.7053e-01],\n",
              "        [-1.1304e+00],\n",
              "        [ 9.9646e-01],\n",
              "        [-1.1810e+00],\n",
              "        [ 9.6260e-01],\n",
              "        [-1.1049e+00],\n",
              "        [-7.9095e-01],\n",
              "        [-2.1609e-01],\n",
              "        [ 1.9485e-03],\n",
              "        [-2.0979e-01],\n",
              "        [ 1.2010e+00],\n",
              "        [ 6.7560e-01],\n",
              "        [-1.8900e+00],\n",
              "        [ 1.9432e-01],\n",
              "        [ 1.6020e+00],\n",
              "        [-1.0372e+00],\n",
              "        [-7.4869e-01],\n",
              "        [-3.8440e-01],\n",
              "        [ 1.4350e-01],\n",
              "        [-8.1268e-02],\n",
              "        [ 1.1262e+00],\n",
              "        [ 4.0618e-02],\n",
              "        [-6.4642e-02],\n",
              "        [ 3.4456e+00],\n",
              "        [-1.1129e+00],\n",
              "        [-4.3420e-01],\n",
              "        [-1.5212e-02],\n",
              "        [ 5.4272e-01],\n",
              "        [ 1.2508e-01],\n",
              "        [-8.7617e-01],\n",
              "        [ 1.2223e+00],\n",
              "        [ 3.2682e-01],\n",
              "        [-1.0487e-01],\n",
              "        [ 2.4768e+00],\n",
              "        [ 5.7691e-01],\n",
              "        [ 1.4731e-01],\n",
              "        [-1.3136e+00],\n",
              "        [-6.0611e-01],\n",
              "        [ 6.4498e-01],\n",
              "        [-2.4771e-01],\n",
              "        [-1.4078e+00],\n",
              "        [-8.0111e-02],\n",
              "        [ 5.1941e-01],\n",
              "        [ 1.1709e+00],\n",
              "        [ 2.1780e+00],\n",
              "        [ 1.7792e+00],\n",
              "        [ 2.5832e-01],\n",
              "        [-2.4341e+00],\n",
              "        [-3.4975e-01],\n",
              "        [-1.3381e+00],\n",
              "        [-4.3891e-01],\n",
              "        [-5.8502e-01],\n",
              "        [ 1.8071e+00],\n",
              "        [-7.3262e-01],\n",
              "        [ 4.0940e-01],\n",
              "        [-5.8410e-01],\n",
              "        [ 1.0613e-01],\n",
              "        [-3.0671e-01],\n",
              "        [ 8.6423e-01],\n",
              "        [-1.0659e+00],\n",
              "        [-1.0130e+00],\n",
              "        [-9.9392e-01],\n",
              "        [ 2.9083e+00],\n",
              "        [ 1.4483e+00],\n",
              "        [-5.6145e-01],\n",
              "        [-9.4646e-01],\n",
              "        [-7.4197e-01],\n",
              "        [ 1.5562e-01],\n",
              "        [-2.5844e-01],\n",
              "        [-7.5015e-01],\n",
              "        [ 1.2355e+00],\n",
              "        [ 1.0141e+00],\n",
              "        [ 1.0132e+00],\n",
              "        [ 6.3464e-01],\n",
              "        [ 8.7688e-01],\n",
              "        [ 8.1428e-01],\n",
              "        [ 1.9737e-01],\n",
              "        [-6.3676e-01],\n",
              "        [-8.7683e-01],\n",
              "        [-1.5510e+00],\n",
              "        [-7.8818e-01],\n",
              "        [ 5.6844e-01],\n",
              "        [ 7.6224e-01],\n",
              "        [ 5.5685e-01],\n",
              "        [ 1.2984e+00],\n",
              "        [ 1.7561e+00],\n",
              "        [ 2.1129e-01],\n",
              "        [ 1.4860e+00],\n",
              "        [ 5.5851e-01],\n",
              "        [ 3.4915e-01],\n",
              "        [ 8.4837e-01],\n",
              "        [ 2.0355e+00],\n",
              "        [ 3.7721e-01],\n",
              "        [ 4.8435e-01],\n",
              "        [-3.0399e-02],\n",
              "        [ 1.0925e+00],\n",
              "        [-5.0640e-01],\n",
              "        [-8.4417e-01],\n",
              "        [-2.2144e-01],\n",
              "        [ 2.2746e+00],\n",
              "        [-7.8324e-01],\n",
              "        [-2.6778e-01],\n",
              "        [ 1.5685e+00],\n",
              "        [-2.8351e-01],\n",
              "        [-9.6035e-02],\n",
              "        [ 1.0644e+00],\n",
              "        [ 1.4888e+00],\n",
              "        [ 8.8256e-01],\n",
              "        [-2.3840e-01],\n",
              "        [ 5.4687e-01],\n",
              "        [-6.0580e-02],\n",
              "        [-5.3049e-01],\n",
              "        [-2.0364e+00],\n",
              "        [ 5.2469e-01],\n",
              "        [-6.9703e-01],\n",
              "        [-8.7932e-02],\n",
              "        [-2.7431e-01],\n",
              "        [ 1.2923e+00],\n",
              "        [-1.4459e+00],\n",
              "        [-3.1467e-01],\n",
              "        [ 1.1260e-01],\n",
              "        [-1.4679e+00],\n",
              "        [-1.7168e+00],\n",
              "        [-5.5025e-01],\n",
              "        [ 5.3508e-01],\n",
              "        [-1.3392e+00],\n",
              "        [ 1.2358e+00],\n",
              "        [-2.0371e+00],\n",
              "        [ 1.4171e+00],\n",
              "        [ 1.6868e-01],\n",
              "        [-1.1421e+00],\n",
              "        [ 6.0696e-01],\n",
              "        [-8.3318e-01],\n",
              "        [-4.7921e-01],\n",
              "        [ 2.9985e-01],\n",
              "        [ 7.2138e-01],\n",
              "        [-6.1845e-01],\n",
              "        [ 5.4566e-01],\n",
              "        [-7.6913e-01],\n",
              "        [ 7.9336e-02],\n",
              "        [-7.5847e-01],\n",
              "        [ 9.4199e-01],\n",
              "        [ 4.3399e-01],\n",
              "        [ 1.1234e+00],\n",
              "        [ 5.0576e-01],\n",
              "        [-1.1371e+00],\n",
              "        [-7.5818e-01],\n",
              "        [ 4.2283e-02],\n",
              "        [-6.9009e-01],\n",
              "        [-5.6215e-01],\n",
              "        [ 8.2530e-01],\n",
              "        [ 2.2683e+00],\n",
              "        [-1.7733e+00],\n",
              "        [-9.9073e-01],\n",
              "        [ 6.3486e-01],\n",
              "        [ 1.0238e+00],\n",
              "        [ 9.5747e-01],\n",
              "        [ 1.9130e-02],\n",
              "        [-1.0700e+00],\n",
              "        [-7.5189e-01],\n",
              "        [ 2.4401e+00],\n",
              "        [-1.9129e+00],\n",
              "        [ 3.1077e-01],\n",
              "        [-1.4763e+00],\n",
              "        [-4.7829e-01],\n",
              "        [-1.1728e-01],\n",
              "        [-6.3051e-01],\n",
              "        [-1.2655e+00],\n",
              "        [-2.9485e-01],\n",
              "        [-2.7986e-01],\n",
              "        [ 1.0837e+00],\n",
              "        [ 1.7298e-01],\n",
              "        [ 5.1235e-01],\n",
              "        [-9.8185e-01],\n",
              "        [ 1.1259e+00],\n",
              "        [ 2.5539e-01],\n",
              "        [-4.5890e-01],\n",
              "        [-9.2838e-01],\n",
              "        [-1.7175e-01],\n",
              "        [-6.8667e-01],\n",
              "        [-1.3269e-01],\n",
              "        [ 1.6296e+00],\n",
              "        [-1.5457e+00],\n",
              "        [-1.6960e-01],\n",
              "        [ 2.7817e-02],\n",
              "        [ 9.1074e-02],\n",
              "        [ 6.7185e-01],\n",
              "        [ 9.8518e-01],\n",
              "        [-7.6097e-01],\n",
              "        [-1.2726e+00],\n",
              "        [-6.2674e-01],\n",
              "        [ 1.3713e+00],\n",
              "        [ 2.3598e-01],\n",
              "        [-4.4657e-01],\n",
              "        [-1.1778e+00],\n",
              "        [ 1.4125e+00],\n",
              "        [-2.3167e-02],\n",
              "        [-1.1093e-02],\n",
              "        [-9.9528e-01],\n",
              "        [-2.9935e-01],\n",
              "        [ 7.6703e-01],\n",
              "        [-9.3721e-01],\n",
              "        [-2.3305e+00],\n",
              "        [-7.8088e-01],\n",
              "        [ 8.2501e-01],\n",
              "        [ 1.2207e+00],\n",
              "        [-6.2976e-02],\n",
              "        [ 1.1464e+00],\n",
              "        [ 1.2215e+00],\n",
              "        [-3.1373e-01],\n",
              "        [-7.2343e-01],\n",
              "        [-3.6273e-01],\n",
              "        [ 4.4249e-01],\n",
              "        [ 1.9418e-01],\n",
              "        [-4.9999e-01],\n",
              "        [-5.5005e-01],\n",
              "        [ 2.3852e-02],\n",
              "        [-1.5204e+00],\n",
              "        [ 5.2940e-01],\n",
              "        [-3.9083e-01],\n",
              "        [-1.9291e+00],\n",
              "        [ 3.4977e-02],\n",
              "        [-4.8336e-01],\n",
              "        [-1.2261e+00],\n",
              "        [-3.3964e-01],\n",
              "        [ 7.3262e-03],\n",
              "        [-5.2180e-02],\n",
              "        [ 1.1675e+00],\n",
              "        [ 1.7302e+00],\n",
              "        [ 2.0562e+00],\n",
              "        [-2.3472e-01],\n",
              "        [-1.3456e+00],\n",
              "        [-5.1658e-01],\n",
              "        [-6.8817e-01],\n",
              "        [ 4.7550e-01],\n",
              "        [-1.4316e+00],\n",
              "        [ 1.4277e-01],\n",
              "        [ 6.3289e-01],\n",
              "        [-1.0489e+00],\n",
              "        [-5.2246e-01],\n",
              "        [-1.1338e+00],\n",
              "        [-1.4128e-01],\n",
              "        [-6.4563e-01],\n",
              "        [ 4.1014e-01],\n",
              "        [ 3.2672e-01],\n",
              "        [-8.3443e-01],\n",
              "        [-4.9217e-01],\n",
              "        [ 6.5804e-01],\n",
              "        [ 5.3619e-01],\n",
              "        [ 1.2350e+00],\n",
              "        [-2.1214e-01],\n",
              "        [ 1.3873e+00],\n",
              "        [-8.2485e-01],\n",
              "        [ 3.5450e-01],\n",
              "        [-2.8074e-01],\n",
              "        [-2.4326e-01],\n",
              "        [-2.9366e-01],\n",
              "        [-6.2867e-01],\n",
              "        [-4.2267e-02],\n",
              "        [-2.7005e-01],\n",
              "        [ 1.4388e+00],\n",
              "        [ 3.2586e-02],\n",
              "        [-5.4797e-01],\n",
              "        [-4.9368e-01],\n",
              "        [ 2.8819e+00],\n",
              "        [-1.1672e+00],\n",
              "        [ 1.9413e+00],\n",
              "        [-1.1636e+00],\n",
              "        [-1.5967e+00],\n",
              "        [ 8.3206e-02],\n",
              "        [-9.2221e-01],\n",
              "        [-3.7114e-01],\n",
              "        [-9.7143e-01],\n",
              "        [ 1.5282e-01],\n",
              "        [ 7.2510e-01],\n",
              "        [-1.3895e+00],\n",
              "        [ 1.1874e+00],\n",
              "        [ 2.7558e-02],\n",
              "        [ 2.0011e+00],\n",
              "        [-1.2461e-01],\n",
              "        [-1.1565e+00],\n",
              "        [ 9.0100e-01],\n",
              "        [-1.8843e-01],\n",
              "        [-1.2726e+00],\n",
              "        [ 5.7646e-01],\n",
              "        [-3.5594e-01],\n",
              "        [-5.1885e-01],\n",
              "        [-3.9274e-01],\n",
              "        [ 1.7512e+00],\n",
              "        [ 1.9589e-01],\n",
              "        [ 1.7758e+00],\n",
              "        [-1.8523e-01],\n",
              "        [ 1.0595e+00],\n",
              "        [ 1.2978e+00],\n",
              "        [ 3.2856e-01],\n",
              "        [ 1.4869e-01],\n",
              "        [ 2.7044e-01],\n",
              "        [-1.1818e+00],\n",
              "        [-1.0340e+00],\n",
              "        [-4.9475e-01],\n",
              "        [-8.9512e-01],\n",
              "        [ 5.3402e-01],\n",
              "        [-8.8661e-01],\n",
              "        [ 7.9637e-01],\n",
              "        [ 6.5883e-01],\n",
              "        [-2.9667e-01],\n",
              "        [ 2.3320e-01],\n",
              "        [-1.3473e+00],\n",
              "        [-8.2310e-01],\n",
              "        [-5.3947e-01],\n",
              "        [ 9.2151e-02],\n",
              "        [ 8.5391e-01],\n",
              "        [-1.0332e+00],\n",
              "        [ 5.8380e-01],\n",
              "        [ 1.0166e+00],\n",
              "        [-7.9419e-01],\n",
              "        [ 3.6743e-01],\n",
              "        [ 4.2930e-01],\n",
              "        [ 2.0289e+00],\n",
              "        [-7.6839e-01],\n",
              "        [-1.2263e+00],\n",
              "        [-1.1335e-01],\n",
              "        [ 3.0849e-01],\n",
              "        [-4.4106e-01],\n",
              "        [-7.7970e-01],\n",
              "        [-7.5657e-01],\n",
              "        [ 1.5148e+00],\n",
              "        [-1.5796e+00],\n",
              "        [ 6.3864e-01],\n",
              "        [-4.3614e-01],\n",
              "        [-1.0023e+00],\n",
              "        [ 3.7803e-01],\n",
              "        [ 4.2760e-02],\n",
              "        [ 5.8587e-01],\n",
              "        [-1.3688e+00],\n",
              "        [ 1.1169e+00],\n",
              "        [ 2.7693e-01],\n",
              "        [ 1.0580e+00],\n",
              "        [-5.1479e-02],\n",
              "        [ 1.7128e-01],\n",
              "        [-2.1165e-01],\n",
              "        [-1.7876e-01],\n",
              "        [-8.4983e-01],\n",
              "        [ 1.1670e+00],\n",
              "        [-3.4847e-01],\n",
              "        [ 7.4182e-02],\n",
              "        [ 1.7575e+00],\n",
              "        [-6.2545e-01],\n",
              "        [ 2.0936e-01],\n",
              "        [ 1.5050e+00],\n",
              "        [-1.1346e+00],\n",
              "        [-7.1118e-01],\n",
              "        [ 1.3401e+00],\n",
              "        [ 1.5109e+00],\n",
              "        [-1.1985e+00],\n",
              "        [ 3.7666e-01],\n",
              "        [-2.5113e-01],\n",
              "        [-5.2773e-01],\n",
              "        [-4.7699e-01],\n",
              "        [-5.6253e-01],\n",
              "        [-1.0563e+00],\n",
              "        [ 2.4131e-01],\n",
              "        [ 1.8275e-01],\n",
              "        [ 6.2465e-01],\n",
              "        [-7.9398e-01],\n",
              "        [-6.7484e-01],\n",
              "        [-3.8769e-01],\n",
              "        [ 4.4965e-01],\n",
              "        [ 3.7261e-01],\n",
              "        [-1.9105e+00],\n",
              "        [ 2.6085e-01],\n",
              "        [ 1.4178e+00],\n",
              "        [ 6.7380e-01],\n",
              "        [ 1.4666e+00],\n",
              "        [-1.1077e+00],\n",
              "        [-7.4438e-01],\n",
              "        [ 1.0189e+00],\n",
              "        [-1.8317e+00],\n",
              "        [ 2.8062e-01],\n",
              "        [ 6.9092e-01],\n",
              "        [ 7.1838e-01],\n",
              "        [-5.7193e-01],\n",
              "        [-4.6663e-01],\n",
              "        [ 1.0177e-01],\n",
              "        [ 3.8034e-01],\n",
              "        [-1.9629e+00],\n",
              "        [-7.8058e-01],\n",
              "        [-1.3440e-01],\n",
              "        [-3.6094e-01],\n",
              "        [ 1.0463e-01],\n",
              "        [-3.2587e-01],\n",
              "        [ 3.1892e-01],\n",
              "        [-1.0977e-01],\n",
              "        [ 9.6497e-02],\n",
              "        [-1.4932e+00],\n",
              "        [ 5.2380e-01],\n",
              "        [ 7.5307e-01],\n",
              "        [-2.2192e-01],\n",
              "        [ 5.8191e-01],\n",
              "        [-1.9369e+00],\n",
              "        [-1.5334e+00],\n",
              "        [-1.7966e-01],\n",
              "        [-6.5778e-01],\n",
              "        [-1.2317e+00],\n",
              "        [-1.2464e+00],\n",
              "        [-1.4996e+00],\n",
              "        [-5.4040e-01],\n",
              "        [ 1.2410e+00],\n",
              "        [-1.6212e+00],\n",
              "        [-9.0360e-01],\n",
              "        [ 1.3968e+00],\n",
              "        [ 9.1782e-01],\n",
              "        [ 5.1204e-01],\n",
              "        [-8.4058e-01],\n",
              "        [-1.0445e+00],\n",
              "        [ 5.5477e-01],\n",
              "        [-9.4926e-01],\n",
              "        [ 1.0457e+00],\n",
              "        [-1.1298e+00],\n",
              "        [-2.8006e+00],\n",
              "        [ 1.2797e+00],\n",
              "        [ 2.2000e-01],\n",
              "        [ 3.2491e-01],\n",
              "        [ 1.3190e+00],\n",
              "        [-8.4968e-01],\n",
              "        [-6.9870e-01],\n",
              "        [-2.0516e-01],\n",
              "        [-7.8117e-01],\n",
              "        [ 6.8727e-01],\n",
              "        [ 7.8359e-01],\n",
              "        [-1.1109e+00],\n",
              "        [-3.1063e+00],\n",
              "        [-9.8977e-01],\n",
              "        [-6.0220e-01],\n",
              "        [-7.1534e-01],\n",
              "        [-4.6740e-01],\n",
              "        [ 5.5142e-01],\n",
              "        [ 2.6549e+00],\n",
              "        [ 1.0582e+00],\n",
              "        [-1.4682e-01],\n",
              "        [-8.9133e-01],\n",
              "        [ 1.9379e-01],\n",
              "        [ 1.9682e+00],\n",
              "        [-7.4036e-01],\n",
              "        [-8.6657e-01],\n",
              "        [-3.0639e-01],\n",
              "        [-5.3594e-01],\n",
              "        [-3.5751e-01],\n",
              "        [-1.2399e+00],\n",
              "        [-1.5235e+00],\n",
              "        [-8.1588e-01],\n",
              "        [ 1.1373e+00],\n",
              "        [ 2.1926e-01],\n",
              "        [ 4.1337e-01],\n",
              "        [ 6.1524e-03],\n",
              "        [-5.6728e-01]], requires_grad=True)"
            ]
          },
          "metadata": {},
          "execution_count": 69
        }
      ]
    },
    {
      "cell_type": "code",
      "source": [
        "(train_x[0]*weights.T).sum() + bias"
      ],
      "metadata": {
        "colab": {
          "base_uri": "https://localhost:8080/"
        },
        "id": "TvThRFyb0YZ7",
        "outputId": "17d2ec55-afd8-4afb-d8f4-68e2a4a1ee1e"
      },
      "execution_count": 65,
      "outputs": [
        {
          "output_type": "execute_result",
          "data": {
            "text/plain": [
              "tensor([-3.8565], grad_fn=<AddBackward0>)"
            ]
          },
          "metadata": {},
          "execution_count": 65
        }
      ]
    },
    {
      "cell_type": "code",
      "source": [
        "def linear1(xb): return xb@weights + bias\n",
        "\n",
        "preds = linear1(train_x)\n",
        "preds"
      ],
      "metadata": {
        "colab": {
          "base_uri": "https://localhost:8080/"
        },
        "id": "UAsSypLX0_Ry",
        "outputId": "78af339b-6242-4db2-e2e2-9940bdeb6daf"
      },
      "execution_count": 66,
      "outputs": [
        {
          "output_type": "execute_result",
          "data": {
            "text/plain": [
              "tensor([[-3.8565],\n",
              "        [-5.0067],\n",
              "        [-9.2098],\n",
              "        ...,\n",
              "        [-8.2678],\n",
              "        [ 0.1213],\n",
              "        [ 1.4608]], grad_fn=<AddBackward0>)"
            ]
          },
          "metadata": {},
          "execution_count": 66
        }
      ]
    },
    {
      "cell_type": "code",
      "source": [
        "corrects = (preds > 0.0).float() == train_y\n",
        "corrects"
      ],
      "metadata": {
        "colab": {
          "base_uri": "https://localhost:8080/"
        },
        "id": "aLuSGSeY1OZW",
        "outputId": "c7146848-4cb8-4d19-983f-46ddcb8f4ba4"
      },
      "execution_count": 67,
      "outputs": [
        {
          "output_type": "execute_result",
          "data": {
            "text/plain": [
              "tensor([[False],\n",
              "        [False],\n",
              "        [False],\n",
              "        ...,\n",
              "        [ True],\n",
              "        [False],\n",
              "        [False]])"
            ]
          },
          "metadata": {},
          "execution_count": 67
        }
      ]
    },
    {
      "cell_type": "code",
      "source": [
        "corrects.float().mean().item()"
      ],
      "metadata": {
        "colab": {
          "base_uri": "https://localhost:8080/"
        },
        "id": "JYc58f771UO8",
        "outputId": "ca7a2378-083a-46c5-8722-bbc5ebb2dba8"
      },
      "execution_count": 68,
      "outputs": [
        {
          "output_type": "execute_result",
          "data": {
            "text/plain": [
              "0.3957728445529938"
            ]
          },
          "metadata": {},
          "execution_count": 68
        }
      ]
    },
    {
      "cell_type": "code",
      "source": [
        "with torch.no_grad(): weights[0] *= 1.001"
      ],
      "metadata": {
        "id": "z83Vc37939wP"
      },
      "execution_count": 70,
      "outputs": []
    },
    {
      "cell_type": "code",
      "source": [
        "preds = linear1(train_x)"
      ],
      "metadata": {
        "id": "u2Ys_zbj4Dvz"
      },
      "execution_count": 71,
      "outputs": []
    },
    {
      "cell_type": "code",
      "source": [
        "((preds>0.0).float() == train_y).float().mean().item()"
      ],
      "metadata": {
        "colab": {
          "base_uri": "https://localhost:8080/"
        },
        "id": "wbYHXBBM4I0Q",
        "outputId": "680fed34-d6fa-4181-cbfc-03120efa570a"
      },
      "execution_count": 72,
      "outputs": [
        {
          "output_type": "execute_result",
          "data": {
            "text/plain": [
              "0.3957728445529938"
            ]
          },
          "metadata": {},
          "execution_count": 72
        }
      ]
    },
    {
      "cell_type": "code",
      "source": [
        "def mnist_loss(predictions, targets):\n",
        "  predictions = predictions.sigmoid()\n",
        "  return torch.where(targets==1, 1-predictions, predictions).mean()"
      ],
      "metadata": {
        "id": "c1h_LQO64j6O"
      },
      "execution_count": 75,
      "outputs": []
    },
    {
      "cell_type": "code",
      "source": [
        "weights = init_params(((28 * 28), 1))\n",
        "bias = init_params(1)"
      ],
      "metadata": {
        "id": "ppjNMpYB7oFo"
      },
      "execution_count": 90,
      "outputs": []
    },
    {
      "cell_type": "code",
      "source": [
        "dl = DataLoader(dset, batch_size=256)\n",
        "xb, yb = first(dl)\n",
        "xb.shape, yb.shape"
      ],
      "metadata": {
        "colab": {
          "base_uri": "https://localhost:8080/"
        },
        "id": "jj-nZlui7wpN",
        "outputId": "533d375e-09a1-44cf-c33c-26eedd1322fa"
      },
      "execution_count": 91,
      "outputs": [
        {
          "output_type": "execute_result",
          "data": {
            "text/plain": [
              "(torch.Size([256, 784]), torch.Size([256, 1]))"
            ]
          },
          "metadata": {},
          "execution_count": 91
        }
      ]
    },
    {
      "cell_type": "code",
      "source": [
        "valid_dl = DataLoader(valid_dset, batch_size=256)"
      ],
      "metadata": {
        "id": "s1stFG6n76hB"
      },
      "execution_count": 92,
      "outputs": []
    },
    {
      "cell_type": "code",
      "source": [
        "batch = train_x[:4]\n",
        "batch.shape"
      ],
      "metadata": {
        "colab": {
          "base_uri": "https://localhost:8080/"
        },
        "id": "ATQ_gEkC8Hb-",
        "outputId": "e1d19786-cab8-4b8c-a711-86efb92f1d61"
      },
      "execution_count": 93,
      "outputs": [
        {
          "output_type": "execute_result",
          "data": {
            "text/plain": [
              "torch.Size([4, 784])"
            ]
          },
          "metadata": {},
          "execution_count": 93
        }
      ]
    },
    {
      "cell_type": "code",
      "source": [
        "preds = linear1(batch)"
      ],
      "metadata": {
        "id": "VkvwgW7M8Kvt"
      },
      "execution_count": 94,
      "outputs": []
    },
    {
      "cell_type": "code",
      "source": [
        "loss = mnist_loss(preds, train_y[:4])\n",
        "loss"
      ],
      "metadata": {
        "colab": {
          "base_uri": "https://localhost:8080/"
        },
        "id": "eOf0dglC8MkI",
        "outputId": "74da6d4a-cbb7-46a2-a590-28d05adf31d7"
      },
      "execution_count": 95,
      "outputs": [
        {
          "output_type": "execute_result",
          "data": {
            "text/plain": [
              "tensor(0.1797, grad_fn=<MeanBackward0>)"
            ]
          },
          "metadata": {},
          "execution_count": 95
        }
      ]
    },
    {
      "cell_type": "code",
      "source": [
        "loss.backward()"
      ],
      "metadata": {
        "id": "vg-TuTIy8fua"
      },
      "execution_count": 96,
      "outputs": []
    },
    {
      "cell_type": "code",
      "source": [
        "weights.grad.shape, weights.grad.mean(), bias.grad"
      ],
      "metadata": {
        "colab": {
          "base_uri": "https://localhost:8080/"
        },
        "id": "DdS6byb18irz",
        "outputId": "b98a1a95-408e-4292-fe36-9e1f1582ec88"
      },
      "execution_count": 97,
      "outputs": [
        {
          "output_type": "execute_result",
          "data": {
            "text/plain": [
              "(torch.Size([784, 1]), tensor(-0.0072), tensor([-0.0506]))"
            ]
          },
          "metadata": {},
          "execution_count": 97
        }
      ]
    },
    {
      "cell_type": "code",
      "source": [
        "def calc_grad(xb, yb, model):\n",
        "  preds = model(xb)\n",
        "  loss = mnist_loss(preds, yb)\n",
        "  loss.backward()"
      ],
      "metadata": {
        "id": "yifTBgGD84j8"
      },
      "execution_count": 98,
      "outputs": []
    },
    {
      "cell_type": "code",
      "source": [
        "calc_grad(batch, train_y[:4], linear1)"
      ],
      "metadata": {
        "id": "JmHdAjp79Biq"
      },
      "execution_count": 99,
      "outputs": []
    },
    {
      "cell_type": "code",
      "source": [
        "weights.grad.mean(), bias.grad"
      ],
      "metadata": {
        "colab": {
          "base_uri": "https://localhost:8080/"
        },
        "id": "OPfFzgRJ9Evo",
        "outputId": "58f4d5ca-4bc4-4363-e8f1-69f3f2682d9d"
      },
      "execution_count": 100,
      "outputs": [
        {
          "output_type": "execute_result",
          "data": {
            "text/plain": [
              "(tensor(-0.0144), tensor([-0.1012]))"
            ]
          },
          "metadata": {},
          "execution_count": 100
        }
      ]
    },
    {
      "cell_type": "code",
      "source": [
        "def train_epoch(model, lr, params):\n",
        "  for xb,yb in dl:\n",
        "    calc_grad(xb, yb, model)\n",
        "    for p in params:\n",
        "      p.data -= p.grad * lr\n",
        "      p.grad.zero_()"
      ],
      "metadata": {
        "id": "96p0Ja5b-GNw"
      },
      "execution_count": 103,
      "outputs": []
    },
    {
      "cell_type": "code",
      "source": [
        "def batch_accuracy(xb, yb):\n",
        "  preds = xb.sigmoid()\n",
        "  correct = (preds > 0.5) == yb\n",
        "  return correct.float().mean()"
      ],
      "metadata": {
        "id": "b9P-g1D8-UI_"
      },
      "execution_count": 104,
      "outputs": []
    },
    {
      "cell_type": "code",
      "source": [
        "batch_accuracy(linear1(batch), train_y[:4])"
      ],
      "metadata": {
        "colab": {
          "base_uri": "https://localhost:8080/"
        },
        "id": "jgoKTBA5-5Ar",
        "outputId": "858786f0-c40f-493a-a5a0-c7f7e1fe778d"
      },
      "execution_count": 105,
      "outputs": [
        {
          "output_type": "execute_result",
          "data": {
            "text/plain": [
              "tensor(0.7500)"
            ]
          },
          "metadata": {},
          "execution_count": 105
        }
      ]
    },
    {
      "cell_type": "code",
      "source": [
        "def validate_epoch(model):\n",
        "  accs = [batch_accuracy(model(xb), yb) for xb,yb in valid_dl]\n",
        "  return round(torch.stack(accs).mean().item(), 4)"
      ],
      "metadata": {
        "id": "YUiQWMx7_DtA"
      },
      "execution_count": 106,
      "outputs": []
    },
    {
      "cell_type": "code",
      "source": [
        "validate_epoch(linear1)"
      ],
      "metadata": {
        "colab": {
          "base_uri": "https://localhost:8080/"
        },
        "id": "I8i6wpWG_Q5O",
        "outputId": "6b78c4a2-99aa-45fd-f9bd-047b3a10b09e"
      },
      "execution_count": 107,
      "outputs": [
        {
          "output_type": "execute_result",
          "data": {
            "text/plain": [
              "0.6895"
            ]
          },
          "metadata": {},
          "execution_count": 107
        }
      ]
    },
    {
      "cell_type": "code",
      "source": [
        "lr = 1\n",
        "params = weights,bias\n",
        "train_epoch(linear1, lr, params)\n",
        "validate_epoch(linear1)"
      ],
      "metadata": {
        "colab": {
          "base_uri": "https://localhost:8080/"
        },
        "id": "-pe0WFQ-_g3Z",
        "outputId": "3c1fb461-bd1d-49d1-fc40-90d0605a1c63"
      },
      "execution_count": 109,
      "outputs": [
        {
          "output_type": "execute_result",
          "data": {
            "text/plain": [
              "0.7724"
            ]
          },
          "metadata": {},
          "execution_count": 109
        }
      ]
    },
    {
      "cell_type": "code",
      "source": [
        "for i in range(20):\n",
        "  train_epoch(linear1, lr, params)\n",
        "  print(validate_epoch(linear1), end=' ')"
      ],
      "metadata": {
        "colab": {
          "base_uri": "https://localhost:8080/"
        },
        "id": "z4Y9B9ln_teS",
        "outputId": "a5236091-d09e-4d22-fc97-c0f858dd5d1d"
      },
      "execution_count": 110,
      "outputs": [
        {
          "output_type": "stream",
          "name": "stdout",
          "text": [
            "0.8876 0.9193 0.9364 0.9413 0.9501 0.9535 0.9579 0.9589 0.9613 0.9623 0.9628 0.9637 0.9647 0.9647 0.9657 0.9662 0.9677 0.9677 0.9687 0.9682 "
          ]
        }
      ]
    },
    {
      "cell_type": "code",
      "source": [
        "linear_model = nn.Linear(28*28,1)"
      ],
      "metadata": {
        "id": "cfzAL3N__jAa"
      },
      "execution_count": 111,
      "outputs": []
    },
    {
      "cell_type": "code",
      "source": [
        "w,b= linear_model.parameters()\n",
        "w.shape, b.shape"
      ],
      "metadata": {
        "colab": {
          "base_uri": "https://localhost:8080/"
        },
        "id": "k9Cv-KStA-Cg",
        "outputId": "2b7bd881-c14d-4c5a-af7e-d2b3297f356f"
      },
      "execution_count": 113,
      "outputs": [
        {
          "output_type": "execute_result",
          "data": {
            "text/plain": [
              "(torch.Size([1, 784]), torch.Size([1]))"
            ]
          },
          "metadata": {},
          "execution_count": 113
        }
      ]
    },
    {
      "cell_type": "code",
      "source": [
        "class BasicOptim:\n",
        "  def __init__(self, params, lr): self.params,self.lr = list(params), lr\n",
        "\n",
        "  def step(self, *args, **kwargs):\n",
        "    for p in self.params: p.data -= p.grad.data * self.lr\n",
        "\n",
        "  def zero_grad(self, *args, **kwargs):\n",
        "    for p in self.params: p.grad = None"
      ],
      "metadata": {
        "id": "ij_Z162fBAOW"
      },
      "execution_count": 114,
      "outputs": []
    },
    {
      "cell_type": "code",
      "source": [
        "opt = BasicOptim(linear_model.parameters(), lr)"
      ],
      "metadata": {
        "id": "2nGC0-ZLCEuS"
      },
      "execution_count": 115,
      "outputs": []
    },
    {
      "cell_type": "code",
      "source": [
        "def train_epoch(model):\n",
        "  for xb, yb in dl:\n",
        "    calc_grad(xb, yb, model)\n",
        "    opt.step()\n",
        "    opt.zero_grad()"
      ],
      "metadata": {
        "id": "81VvfuKyCOea"
      },
      "execution_count": 116,
      "outputs": []
    },
    {
      "cell_type": "code",
      "source": [
        "validate_epoch(linear_model)"
      ],
      "metadata": {
        "colab": {
          "base_uri": "https://localhost:8080/"
        },
        "id": "4rQMkH9xCYcX",
        "outputId": "fb8cc7c4-ca01-4434-a2f6-54cb2f004648"
      },
      "execution_count": 117,
      "outputs": [
        {
          "output_type": "execute_result",
          "data": {
            "text/plain": [
              "0.4294"
            ]
          },
          "metadata": {},
          "execution_count": 117
        }
      ]
    },
    {
      "cell_type": "code",
      "source": [
        "def train_model(model, epochs):\n",
        "  for i in range(epochs):\n",
        "    train_epoch(model)\n",
        "    print(validate_epoch(model), end=' ')"
      ],
      "metadata": {
        "id": "3VXEvUcWCldS"
      },
      "execution_count": 118,
      "outputs": []
    },
    {
      "cell_type": "code",
      "source": [
        "train_model(linear_model, 20)"
      ],
      "metadata": {
        "colab": {
          "base_uri": "https://localhost:8080/"
        },
        "id": "rnj_NHweCvCX",
        "outputId": "92f1ff4d-6f7b-4e00-b460-934eee9a2da8"
      },
      "execution_count": 119,
      "outputs": [
        {
          "output_type": "stream",
          "name": "stdout",
          "text": [
            "0.4932 0.8804 0.8237 0.9111 0.9336 0.9472 0.956 0.9624 0.9653 0.9673 0.9692 0.9717 0.9736 0.9751 0.9761 0.9765 0.977 0.978 0.978 0.979 "
          ]
        }
      ]
    },
    {
      "cell_type": "code",
      "source": [
        "dls = DataLoaders(dl, valid_dl)"
      ],
      "metadata": {
        "id": "AAiRTFclC8Jn"
      },
      "execution_count": 120,
      "outputs": []
    },
    {
      "cell_type": "code",
      "source": [
        "learn = Learner(dls, nn.Linear(28*28, 1), opt_func=SGD, loss_func=mnist_loss, metrics=batch_accuracy)"
      ],
      "metadata": {
        "id": "DCXBQ2r-DBN6"
      },
      "execution_count": 122,
      "outputs": []
    },
    {
      "cell_type": "code",
      "source": [
        "learn.fit(10, lr=lr)"
      ],
      "metadata": {
        "colab": {
          "base_uri": "https://localhost:8080/",
          "height": 363
        },
        "id": "ZNn2kKs3DL3_",
        "outputId": "7adc010d-bfb8-42a4-a892-4c0b06c24ca6"
      },
      "execution_count": 123,
      "outputs": [
        {
          "output_type": "display_data",
          "data": {
            "text/plain": [
              "<IPython.core.display.HTML object>"
            ],
            "text/html": [
              "\n",
              "<style>\n",
              "    /* Turns off some styling */\n",
              "    progress {\n",
              "        /* gets rid of default border in Firefox and Opera. */\n",
              "        border: none;\n",
              "        /* Needs to be in here for Safari polyfill so background images work as expected. */\n",
              "        background-size: auto;\n",
              "    }\n",
              "    progress:not([value]), progress:not([value])::-webkit-progress-bar {\n",
              "        background: repeating-linear-gradient(45deg, #7e7e7e, #7e7e7e 10px, #5c5c5c 10px, #5c5c5c 20px);\n",
              "    }\n",
              "    .progress-bar-interrupted, .progress-bar-interrupted::-webkit-progress-bar {\n",
              "        background: #F44336;\n",
              "    }\n",
              "</style>\n"
            ]
          },
          "metadata": {}
        },
        {
          "output_type": "display_data",
          "data": {
            "text/plain": [
              "<IPython.core.display.HTML object>"
            ],
            "text/html": [
              "<table border=\"1\" class=\"dataframe\">\n",
              "  <thead>\n",
              "    <tr style=\"text-align: left;\">\n",
              "      <th>epoch</th>\n",
              "      <th>train_loss</th>\n",
              "      <th>valid_loss</th>\n",
              "      <th>batch_accuracy</th>\n",
              "      <th>time</th>\n",
              "    </tr>\n",
              "  </thead>\n",
              "  <tbody>\n",
              "    <tr>\n",
              "      <td>0</td>\n",
              "      <td>0.636516</td>\n",
              "      <td>0.503525</td>\n",
              "      <td>0.495584</td>\n",
              "      <td>00:00</td>\n",
              "    </tr>\n",
              "    <tr>\n",
              "      <td>1</td>\n",
              "      <td>0.542777</td>\n",
              "      <td>0.157035</td>\n",
              "      <td>0.877331</td>\n",
              "      <td>00:00</td>\n",
              "    </tr>\n",
              "    <tr>\n",
              "      <td>2</td>\n",
              "      <td>0.198095</td>\n",
              "      <td>0.196590</td>\n",
              "      <td>0.818449</td>\n",
              "      <td>00:00</td>\n",
              "    </tr>\n",
              "    <tr>\n",
              "      <td>3</td>\n",
              "      <td>0.086359</td>\n",
              "      <td>0.111633</td>\n",
              "      <td>0.909225</td>\n",
              "      <td>00:00</td>\n",
              "    </tr>\n",
              "    <tr>\n",
              "      <td>4</td>\n",
              "      <td>0.045266</td>\n",
              "      <td>0.080120</td>\n",
              "      <td>0.932777</td>\n",
              "      <td>00:00</td>\n",
              "    </tr>\n",
              "    <tr>\n",
              "      <td>5</td>\n",
              "      <td>0.029282</td>\n",
              "      <td>0.063598</td>\n",
              "      <td>0.946025</td>\n",
              "      <td>00:00</td>\n",
              "    </tr>\n",
              "    <tr>\n",
              "      <td>6</td>\n",
              "      <td>0.022739</td>\n",
              "      <td>0.053494</td>\n",
              "      <td>0.955839</td>\n",
              "      <td>00:00</td>\n",
              "    </tr>\n",
              "    <tr>\n",
              "      <td>7</td>\n",
              "      <td>0.019846</td>\n",
              "      <td>0.046834</td>\n",
              "      <td>0.962218</td>\n",
              "      <td>00:00</td>\n",
              "    </tr>\n",
              "    <tr>\n",
              "      <td>8</td>\n",
              "      <td>0.018391</td>\n",
              "      <td>0.042174</td>\n",
              "      <td>0.965162</td>\n",
              "      <td>00:00</td>\n",
              "    </tr>\n",
              "    <tr>\n",
              "      <td>9</td>\n",
              "      <td>0.017523</td>\n",
              "      <td>0.038747</td>\n",
              "      <td>0.967125</td>\n",
              "      <td>00:00</td>\n",
              "    </tr>\n",
              "  </tbody>\n",
              "</table>"
            ]
          },
          "metadata": {}
        }
      ]
    },
    {
      "cell_type": "code",
      "source": [
        "def simple_net(xb):\n",
        "  res = xb@w1 + b1\n",
        "  res = res.max(tensor(0.0))\n",
        "  res = res@w2 + b2\n",
        "  return res"
      ],
      "metadata": {
        "id": "6ySu6jduDmOb"
      },
      "execution_count": 124,
      "outputs": []
    },
    {
      "cell_type": "code",
      "source": [
        "w1 = init_params((28*28, 30))\n",
        "b1 = init_params(30)\n",
        "w2 = init_params((30, 1))\n",
        "b2 = init_params(1)"
      ],
      "metadata": {
        "id": "VWZdnLGnD0h1"
      },
      "execution_count": null,
      "outputs": []
    },
    {
      "cell_type": "code",
      "source": [
        "simple_net = nn.Sequential(\n",
        "    nn.Linear(28*28,30),\n",
        "    nn.ReLU(),\n",
        "    nn.Linear(30, 1)\n",
        ")"
      ],
      "metadata": {
        "id": "I9V1QHQxEXdH"
      },
      "execution_count": 125,
      "outputs": []
    },
    {
      "cell_type": "code",
      "source": [
        "learn = Learner(dls, simple_net, opt_func=SGD, loss_func=mnist_loss, metrics=batch_accuracy)"
      ],
      "metadata": {
        "id": "knUQ5qxWE0Sj"
      },
      "execution_count": 126,
      "outputs": []
    },
    {
      "cell_type": "code",
      "source": [
        "learn.fit(40, 0.1)"
      ],
      "metadata": {
        "colab": {
          "base_uri": "https://localhost:8080/",
          "height": 1000
        },
        "id": "E3N7HFGtFCx7",
        "outputId": "e31c3aa1-5f09-4a60-923b-7840b925f6b0"
      },
      "execution_count": 127,
      "outputs": [
        {
          "output_type": "display_data",
          "data": {
            "text/plain": [
              "<IPython.core.display.HTML object>"
            ],
            "text/html": [
              "\n",
              "<style>\n",
              "    /* Turns off some styling */\n",
              "    progress {\n",
              "        /* gets rid of default border in Firefox and Opera. */\n",
              "        border: none;\n",
              "        /* Needs to be in here for Safari polyfill so background images work as expected. */\n",
              "        background-size: auto;\n",
              "    }\n",
              "    progress:not([value]), progress:not([value])::-webkit-progress-bar {\n",
              "        background: repeating-linear-gradient(45deg, #7e7e7e, #7e7e7e 10px, #5c5c5c 10px, #5c5c5c 20px);\n",
              "    }\n",
              "    .progress-bar-interrupted, .progress-bar-interrupted::-webkit-progress-bar {\n",
              "        background: #F44336;\n",
              "    }\n",
              "</style>\n"
            ]
          },
          "metadata": {}
        },
        {
          "output_type": "display_data",
          "data": {
            "text/plain": [
              "<IPython.core.display.HTML object>"
            ],
            "text/html": [
              "<table border=\"1\" class=\"dataframe\">\n",
              "  <thead>\n",
              "    <tr style=\"text-align: left;\">\n",
              "      <th>epoch</th>\n",
              "      <th>train_loss</th>\n",
              "      <th>valid_loss</th>\n",
              "      <th>batch_accuracy</th>\n",
              "      <th>time</th>\n",
              "    </tr>\n",
              "  </thead>\n",
              "  <tbody>\n",
              "    <tr>\n",
              "      <td>0</td>\n",
              "      <td>0.304882</td>\n",
              "      <td>0.415397</td>\n",
              "      <td>0.504416</td>\n",
              "      <td>00:00</td>\n",
              "    </tr>\n",
              "    <tr>\n",
              "      <td>1</td>\n",
              "      <td>0.144067</td>\n",
              "      <td>0.228050</td>\n",
              "      <td>0.809617</td>\n",
              "      <td>00:00</td>\n",
              "    </tr>\n",
              "    <tr>\n",
              "      <td>2</td>\n",
              "      <td>0.080019</td>\n",
              "      <td>0.113638</td>\n",
              "      <td>0.916094</td>\n",
              "      <td>00:00</td>\n",
              "    </tr>\n",
              "    <tr>\n",
              "      <td>3</td>\n",
              "      <td>0.052708</td>\n",
              "      <td>0.076613</td>\n",
              "      <td>0.942100</td>\n",
              "      <td>00:00</td>\n",
              "    </tr>\n",
              "    <tr>\n",
              "      <td>4</td>\n",
              "      <td>0.040034</td>\n",
              "      <td>0.059891</td>\n",
              "      <td>0.957311</td>\n",
              "      <td>00:00</td>\n",
              "    </tr>\n",
              "    <tr>\n",
              "      <td>5</td>\n",
              "      <td>0.033562</td>\n",
              "      <td>0.050602</td>\n",
              "      <td>0.965162</td>\n",
              "      <td>00:00</td>\n",
              "    </tr>\n",
              "    <tr>\n",
              "      <td>6</td>\n",
              "      <td>0.029846</td>\n",
              "      <td>0.044792</td>\n",
              "      <td>0.965653</td>\n",
              "      <td>00:00</td>\n",
              "    </tr>\n",
              "    <tr>\n",
              "      <td>7</td>\n",
              "      <td>0.027433</td>\n",
              "      <td>0.040824</td>\n",
              "      <td>0.967125</td>\n",
              "      <td>00:00</td>\n",
              "    </tr>\n",
              "    <tr>\n",
              "      <td>8</td>\n",
              "      <td>0.025695</td>\n",
              "      <td>0.037931</td>\n",
              "      <td>0.968597</td>\n",
              "      <td>00:00</td>\n",
              "    </tr>\n",
              "    <tr>\n",
              "      <td>9</td>\n",
              "      <td>0.024346</td>\n",
              "      <td>0.035715</td>\n",
              "      <td>0.971050</td>\n",
              "      <td>00:00</td>\n",
              "    </tr>\n",
              "    <tr>\n",
              "      <td>10</td>\n",
              "      <td>0.023252</td>\n",
              "      <td>0.033950</td>\n",
              "      <td>0.972522</td>\n",
              "      <td>00:00</td>\n",
              "    </tr>\n",
              "    <tr>\n",
              "      <td>11</td>\n",
              "      <td>0.022337</td>\n",
              "      <td>0.032499</td>\n",
              "      <td>0.972522</td>\n",
              "      <td>00:00</td>\n",
              "    </tr>\n",
              "    <tr>\n",
              "      <td>12</td>\n",
              "      <td>0.021556</td>\n",
              "      <td>0.031274</td>\n",
              "      <td>0.973503</td>\n",
              "      <td>00:00</td>\n",
              "    </tr>\n",
              "    <tr>\n",
              "      <td>13</td>\n",
              "      <td>0.020880</td>\n",
              "      <td>0.030220</td>\n",
              "      <td>0.973994</td>\n",
              "      <td>00:00</td>\n",
              "    </tr>\n",
              "    <tr>\n",
              "      <td>14</td>\n",
              "      <td>0.020288</td>\n",
              "      <td>0.029296</td>\n",
              "      <td>0.974975</td>\n",
              "      <td>00:00</td>\n",
              "    </tr>\n",
              "    <tr>\n",
              "      <td>15</td>\n",
              "      <td>0.019762</td>\n",
              "      <td>0.028478</td>\n",
              "      <td>0.975466</td>\n",
              "      <td>00:00</td>\n",
              "    </tr>\n",
              "    <tr>\n",
              "      <td>16</td>\n",
              "      <td>0.019292</td>\n",
              "      <td>0.027747</td>\n",
              "      <td>0.976938</td>\n",
              "      <td>00:00</td>\n",
              "    </tr>\n",
              "    <tr>\n",
              "      <td>17</td>\n",
              "      <td>0.018867</td>\n",
              "      <td>0.027088</td>\n",
              "      <td>0.977429</td>\n",
              "      <td>00:00</td>\n",
              "    </tr>\n",
              "    <tr>\n",
              "      <td>18</td>\n",
              "      <td>0.018482</td>\n",
              "      <td>0.026491</td>\n",
              "      <td>0.977920</td>\n",
              "      <td>00:00</td>\n",
              "    </tr>\n",
              "    <tr>\n",
              "      <td>19</td>\n",
              "      <td>0.018129</td>\n",
              "      <td>0.025948</td>\n",
              "      <td>0.978901</td>\n",
              "      <td>00:00</td>\n",
              "    </tr>\n",
              "    <tr>\n",
              "      <td>20</td>\n",
              "      <td>0.017804</td>\n",
              "      <td>0.025452</td>\n",
              "      <td>0.979882</td>\n",
              "      <td>00:00</td>\n",
              "    </tr>\n",
              "    <tr>\n",
              "      <td>21</td>\n",
              "      <td>0.017504</td>\n",
              "      <td>0.024997</td>\n",
              "      <td>0.980373</td>\n",
              "      <td>00:00</td>\n",
              "    </tr>\n",
              "    <tr>\n",
              "      <td>22</td>\n",
              "      <td>0.017225</td>\n",
              "      <td>0.024580</td>\n",
              "      <td>0.980373</td>\n",
              "      <td>00:00</td>\n",
              "    </tr>\n",
              "    <tr>\n",
              "      <td>23</td>\n",
              "      <td>0.016965</td>\n",
              "      <td>0.024195</td>\n",
              "      <td>0.981354</td>\n",
              "      <td>00:00</td>\n",
              "    </tr>\n",
              "    <tr>\n",
              "      <td>24</td>\n",
              "      <td>0.016721</td>\n",
              "      <td>0.023839</td>\n",
              "      <td>0.981354</td>\n",
              "      <td>00:00</td>\n",
              "    </tr>\n",
              "    <tr>\n",
              "      <td>25</td>\n",
              "      <td>0.016491</td>\n",
              "      <td>0.023510</td>\n",
              "      <td>0.981354</td>\n",
              "      <td>00:00</td>\n",
              "    </tr>\n",
              "    <tr>\n",
              "      <td>26</td>\n",
              "      <td>0.016275</td>\n",
              "      <td>0.023205</td>\n",
              "      <td>0.981354</td>\n",
              "      <td>00:00</td>\n",
              "    </tr>\n",
              "    <tr>\n",
              "      <td>27</td>\n",
              "      <td>0.016071</td>\n",
              "      <td>0.022922</td>\n",
              "      <td>0.981354</td>\n",
              "      <td>00:00</td>\n",
              "    </tr>\n",
              "    <tr>\n",
              "      <td>28</td>\n",
              "      <td>0.015877</td>\n",
              "      <td>0.022659</td>\n",
              "      <td>0.982336</td>\n",
              "      <td>00:00</td>\n",
              "    </tr>\n",
              "    <tr>\n",
              "      <td>29</td>\n",
              "      <td>0.015692</td>\n",
              "      <td>0.022414</td>\n",
              "      <td>0.982336</td>\n",
              "      <td>00:00</td>\n",
              "    </tr>\n",
              "    <tr>\n",
              "      <td>30</td>\n",
              "      <td>0.015517</td>\n",
              "      <td>0.022185</td>\n",
              "      <td>0.982826</td>\n",
              "      <td>00:00</td>\n",
              "    </tr>\n",
              "    <tr>\n",
              "      <td>31</td>\n",
              "      <td>0.015349</td>\n",
              "      <td>0.021971</td>\n",
              "      <td>0.983317</td>\n",
              "      <td>00:00</td>\n",
              "    </tr>\n",
              "    <tr>\n",
              "      <td>32</td>\n",
              "      <td>0.015189</td>\n",
              "      <td>0.021771</td>\n",
              "      <td>0.983317</td>\n",
              "      <td>00:00</td>\n",
              "    </tr>\n",
              "    <tr>\n",
              "      <td>33</td>\n",
              "      <td>0.015036</td>\n",
              "      <td>0.021583</td>\n",
              "      <td>0.982826</td>\n",
              "      <td>00:00</td>\n",
              "    </tr>\n",
              "    <tr>\n",
              "      <td>34</td>\n",
              "      <td>0.014889</td>\n",
              "      <td>0.021407</td>\n",
              "      <td>0.982826</td>\n",
              "      <td>00:00</td>\n",
              "    </tr>\n",
              "    <tr>\n",
              "      <td>35</td>\n",
              "      <td>0.014748</td>\n",
              "      <td>0.021242</td>\n",
              "      <td>0.982826</td>\n",
              "      <td>00:00</td>\n",
              "    </tr>\n",
              "    <tr>\n",
              "      <td>36</td>\n",
              "      <td>0.014612</td>\n",
              "      <td>0.021086</td>\n",
              "      <td>0.982826</td>\n",
              "      <td>00:00</td>\n",
              "    </tr>\n",
              "    <tr>\n",
              "      <td>37</td>\n",
              "      <td>0.014482</td>\n",
              "      <td>0.020939</td>\n",
              "      <td>0.982826</td>\n",
              "      <td>00:00</td>\n",
              "    </tr>\n",
              "    <tr>\n",
              "      <td>38</td>\n",
              "      <td>0.014356</td>\n",
              "      <td>0.020800</td>\n",
              "      <td>0.982826</td>\n",
              "      <td>00:00</td>\n",
              "    </tr>\n",
              "    <tr>\n",
              "      <td>39</td>\n",
              "      <td>0.014234</td>\n",
              "      <td>0.020669</td>\n",
              "      <td>0.982336</td>\n",
              "      <td>00:00</td>\n",
              "    </tr>\n",
              "  </tbody>\n",
              "</table>"
            ]
          },
          "metadata": {}
        }
      ]
    }
  ]
}